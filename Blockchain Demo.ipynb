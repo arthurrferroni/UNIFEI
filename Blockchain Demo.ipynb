{
  "nbformat": 4,
  "nbformat_minor": 0,
  "metadata": {
    "colab": {
      "name": "ECOM01_Blockchain_Demo.ipynb",
      "provenance": [],
      "include_colab_link": true
    },
    "kernelspec": {
      "name": "python3",
      "display_name": "Python 3"
    },
    "language_info": {
      "name": "python"
    }
  },
  "cells": [
    {
      "cell_type": "markdown",
      "metadata": {
        "id": "view-in-github",
        "colab_type": "text"
      },
      "source": [
        "<a href=\"https://colab.research.google.com/github/arthurrferroni/UNIFEI/blob/main/Blockchain%20Demo.ipynb\" target=\"_parent\"><img src=\"https://colab.research.google.com/assets/colab-badge.svg\" alt=\"Open In Colab\"/></a>"
      ]
    },
    {
      "cell_type": "markdown",
      "metadata": {
        "id": "2lD9hw2Nt_DY"
      },
      "source": [
        "# Simulando uma Aplicação *Iot* com *Blockchain* "
      ]
    },
    {
      "cell_type": "markdown",
      "source": [
        "Baseado no código [IoTblockchain de Sumaya Altamimi](https://github.com/suumaya/Blockchain-IoT/blob/master/IoTblockchain.ipynb)"
      ],
      "metadata": {
        "id": "vnuJsHmEwzUX"
      }
    },
    {
      "cell_type": "markdown",
      "source": [
        "## Implementação em Python"
      ],
      "metadata": {
        "id": "arBYVhtDxTM7"
      }
    },
    {
      "cell_type": "code",
      "source": [
        "!pip install pyCrypto"
      ],
      "metadata": {
        "id": "upLkMdVft_94"
      },
      "execution_count": null,
      "outputs": []
    },
    {
      "cell_type": "code",
      "execution_count": null,
      "metadata": {
        "id": "foLRkKuTt_De"
      },
      "outputs": [],
      "source": [
        "import hashlib #codificação em sha256\n",
        "import random\n",
        "import string\n",
        "import json\n",
        "import binascii\n",
        "import Crypto\n",
        "import Crypto.Random #gera chaves públicas e privadas\n",
        "from Crypto.Hash import SHA\n",
        "from Crypto.PublicKey import RSA\n",
        "from Crypto.Signature import PKCS1_v1_5"
      ]
    },
    {
      "cell_type": "markdown",
      "source": [
        "O primeiro passo é construir um minerador, que validará as cadeias construídas para o *Blockchain*.\n",
        "\n",
        "Portanto, começaremos um pouco para trás e começaremos com a implementação do minerador. Para o exemplo aqui, usaremos a função hash SHA256 porque ela é prontamente implementada em python. Observe que o bitcoin usa [duas rodadas de SHA256](https://en.bitcoin.it/wiki/Hashcash) em vez de uma.\n",
        "\n",
        "Portanto, nossa função hash transformará uma string de comprimento arbitrário em uma string de comprimento fixo de 64 caracteres hexadecimais. "
      ],
      "metadata": {
        "id": "PzVCedGmxdH2"
      }
    },
    {
      "cell_type": "code",
      "execution_count": null,
      "metadata": {
        "id": "PlW1gmEzt_Dg"
      },
      "outputs": [],
      "source": [
        "def sha256(mensagem):\n",
        "  return hashlib.sha256(mensagem.encode('ascii')).hexdigest()\n",
        "\n",
        "def hash_iot(mensagem):\n",
        "  return sha256(mensagem)\n",
        "\n",
        "def minerador(mensagem, dificuldade=1):\n",
        "  '''\n",
        "  Retorna o HASH da soma da mensagem mais o nonce (número aleatório usado 1 vez).\n",
        "  A dificuldade define o tamanho do nonce.\n",
        "  Retorna:\n",
        "    nonce: o número encontrado\n",
        "    niter: número de iterações para encontra o nonce\n",
        "  '''\n",
        "  i = 0\n",
        "  prefix = '1' * dificuldade\n",
        "  while True:\n",
        "    nonce = str(i)\n",
        "    digest = hash_iot(mensagem + nonce)\n",
        "    if digest.startswith(prefix):\n",
        "      return nonce, i\n",
        "    i += 1"
      ]
    },
    {
      "cell_type": "markdown",
      "source": [
        "Quanto mais você aumenta o número de líderes de que necessita, mais difícil se torna (em média) encontrar um nonce. No bitcoin, isso é chamado de dificuldade de mineração. Observe que o bitcoin não requer um número de dígitos iniciais,  e sim requer que o hash esteja abaixo de um determinado valor, mas é a mesma ideia.\n",
        "\n",
        "Portanto, vamos definir duas funções que reutilizaremos mais tarde: uma para fazer um hash de uma string e outra para extrair um nonce de uma determinada string.\n",
        "\n",
        "Agora, o processo de mineração é: dado um texto `x` arbitrário, encontre um nonce (número arbitrário único) `hash(x + nonce)` que produza um hash começando com um número de caracteres principais.\n",
        "\n",
        "Por exemplo, aqui, iremos \"minerar\" um nonce de forma que o hash de nossa mensagem `'CEB-IoT'` quando concatenado com nosso nonce tenha pelo menos 2 principais."
      ],
      "metadata": {
        "id": "OI8sWeriy0zv"
      }
    },
    {
      "cell_type": "code",
      "execution_count": null,
      "metadata": {
        "id": "Nu-73E3qt_Dj"
      },
      "outputs": [],
      "source": [
        "message = 'CEB-IoT'\n",
        "for nonce in range(1000):\n",
        "    digest = sha256(message + str(nonce))\n",
        "    if digest.startswith('12'):\n",
        "        print('Nonce encontrado = %d' % nonce)\n",
        "        break\n",
        "print(sha256(message + str(nonce)))"
      ]
    },
    {
      "cell_type": "markdown",
      "source": [
        "Variando a dificuldade de minerar o nonce de 1 para 3 a seguir."
      ],
      "metadata": {
        "id": "FYB-3Qr9waZ4"
      }
    },
    {
      "cell_type": "code",
      "execution_count": null,
      "metadata": {
        "id": "7FVLkShLt_Dl"
      },
      "outputs": [],
      "source": [
        "nonce, niter = minerador('CEB-IoT', dificuldade=1)\n",
        "print('Nonce %s encontrado com %d iterações.' % (nonce,niter))\n",
        "\n",
        "nonce, niter = minerador('CEB-IoT', dificuldade=3)\n",
        "print('Nonce %s encontrado com %d iterações.' % (nonce,niter))"
      ]
    },
    {
      "cell_type": "markdown",
      "metadata": {
        "id": "PECBJ1Fpt_Dm"
      },
      "source": [
        "Como você pode ver neste exemplo, o número de iterações necessárias para uma dificuldade de 3 é muito maior do que para uma dificuldade de 1. \n",
        "\n",
        "Observe que ter sorte e obter uma string onde o primeiro nonce (0 neste caso) seria produzir a solução. \n",
        "\n",
        "Portanto, a dificuldade controla o número *médio* de tentativas. Gerenciando o risco de quebra do HASH."
      ]
    },
    {
      "cell_type": "markdown",
      "metadata": {
        "id": "YPjv-cjtt_Dn"
      },
      "source": [
        "## Emulação do Dispositivo"
      ]
    },
    {
      "cell_type": "markdown",
      "metadata": {
        "id": "5mYlSwRSt_Dn"
      },
      "source": [
        "Cada dispositivo IoT deve ter um par de chaves: privada + pública.\n",
        "\n",
        "A chave pública é usada para receber dados e a chave privada é usada para processar dados.\n",
        "\n",
        "Ao assinar uma mensagem com nossa chave privada, qualquer outra pessoa pode verificar a assinatura usando nossa chave pública.\n",
        "\n",
        "Observe que o blockchain real é mais complicado.\n",
        "\n",
        "Um blockchain é um conjunto de vários pares de chaves privadas / públicas e um endereço não é diretamente a chave pública.\n",
        "\n",
        "Isso garante melhor privacidade e segurança, mas para a proposta de implementação de IoT, usaremos uma única chave e usaremos a chave pública como o endereço."
      ]
    },
    {
      "cell_type": "code",
      "execution_count": null,
      "metadata": {
        "id": "gsu-Oy0Ot_Do"
      },
      "outputs": [],
      "source": [
        "class Dispositivo():\n",
        "  '''\n",
        "  Dispositivo com par de chaves: pública e privada\n",
        "  '''\n",
        "  def __init__(self):\n",
        "    random_gen = Crypto.Random.new().read\n",
        "    self._private_key = RSA.generate(1024, random_gen)\n",
        "    self._public_key = self._private_key.publickey()\n",
        "    self._signer = PKCS1_v1_5.new(self._private_key)\n",
        "        \n",
        "  @property\n",
        "  def endereco(self):\n",
        "    '''Atalho para acessar a chave pública'''\n",
        "    return binascii.hexlify(self._public_key.exportKey(format='DER')).decode('ascii')\n",
        "    \n",
        "  def assinatura(self, message):\n",
        "    '''Assinatura da mensagem com a carteira'''\n",
        "    h = SHA.new(message.encode('utf8'))\n",
        "    return binascii.hexlify(self._signer.sign(h)).decode('ascii')\n",
        "    "
      ]
    },
    {
      "cell_type": "code",
      "execution_count": null,
      "metadata": {
        "id": "GMBOVDzkt_Dp"
      },
      "outputs": [],
      "source": [
        "def verifica_assinatura(disp_endereco, mensagem, assinatura):\n",
        "  '''\n",
        "  Verifica a assinatura correspondente a mensagem assinada pelo \n",
        "  dispositvo em seu endereço\n",
        "  '''\n",
        "  publica = RSA.importKey(binascii.unhexlify(disp_endereco))\n",
        "  verifica = PKCS1_v1_5.new(publica)\n",
        "  h = SHA.new(mensagem.encode('utf8'))\n",
        "  return verifica.verify(h, binascii.unhexlify(assinatura))"
      ]
    },
    {
      "cell_type": "markdown",
      "metadata": {
        "id": "CaQkP3_Ht_Dq"
      },
      "source": [
        "### Teste do Dispositivo"
      ]
    },
    {
      "cell_type": "markdown",
      "source": [
        "Verifica se a assinatura da carteira funciona para o dispositivo."
      ],
      "metadata": {
        "id": "RbYO8PtYwxL4"
      }
    },
    {
      "cell_type": "code",
      "execution_count": null,
      "metadata": {
        "id": "drXqSZBst_Dq"
      },
      "outputs": [],
      "source": [
        "d1 = Dispositivo()\n",
        "msg = 'CEB IoT 5G'\n",
        "assi = d1.assinatura(msg)\n",
        "print('assinatura =', assi)\n",
        "print('\\'%s\\' [%s]' % (msg, verifica_assinatura(d1.endereco, msg, assi)))\n",
        "msg = 'CEB IoT 4G'\n",
        "print('\\'%s\\' [%s]' % (msg, verifica_assinatura(d1.endereco, msg, assi)))"
      ]
    },
    {
      "cell_type": "markdown",
      "source": [
        "## Processando o Envio de Mensagens"
      ],
      "metadata": {
        "id": "mihQEffFyUrJ"
      }
    },
    {
      "cell_type": "markdown",
      "source": [
        "Usa-se um processo para trocar mensagens entre dispositivos, composto por:\n",
        "1. Um **remetente**, que escreverá e assinará a mensagem.\n",
        "2. Um **número de entradas**, que são outras saídas de mensagens. \n",
        "  - O destinatário de todos eles deve ser o dispositivo do remetente. \n",
        "  - Caso contrário, você pode ver os dados de outras pessoas.\n",
        "3. Um **número de saídas**, cada uma especificando uma **mensagem** e um **destinatário**."
      ],
      "metadata": {
        "id": "LQ4ZpI3sycjK"
      }
    },
    {
      "cell_type": "markdown",
      "source": [
        "A classe *ProcessoEntrada* indica uma entrada por processo, apontando para a saída de outro processo."
      ],
      "metadata": {
        "id": "aRMWK4CJ1ONl"
      }
    },
    {
      "cell_type": "code",
      "execution_count": null,
      "metadata": {
        "id": "tSwUPhsOt_Ds"
      },
      "outputs": [],
      "source": [
        "class ProcessoEntrada():\n",
        "  def __init__(self, processo, indice_saida):\n",
        "    self.processo = processo\n",
        "    self.indice_saida = indice_saida\n",
        "    assert 0 <= self.indice_saida < len(processo.saidas)\n",
        "        \n",
        "  def to_dict(self):\n",
        "    d = {\n",
        "        'processo': self.processo.hash(),\n",
        "        'indice_saida': self.indice_saida\n",
        "      }\n",
        "    return d\n",
        "    \n",
        "  @property\n",
        "  def saida_pai(self):\n",
        "    return self.processo.saidas[self.indice_saida]"
      ]
    },
    {
      "cell_type": "markdown",
      "source": [
        "A classe *ProcessoSaida* indica saída para um processo, isso especifica a mensagem e um dispositivo de destinatário."
      ],
      "metadata": {
        "id": "MwLsdQvx1fbb"
      }
    },
    {
      "cell_type": "code",
      "execution_count": null,
      "metadata": {
        "id": "oByLxaMdt_Ds"
      },
      "outputs": [],
      "source": [
        "class ProcessoSaida():\n",
        "  def __init__(self, endereco_destino, mensagem):\n",
        "    self.destino = endereco_destino\n",
        "    self.mensagem = mensagem\n",
        "        \n",
        "  def to_dict(self):\n",
        "    d = {\n",
        "        'endereco_destino': self.destino,\n",
        "        'mensagem': self.mensagem\n",
        "      }\n",
        "    return d"
      ]
    },
    {
      "cell_type": "markdown",
      "source": [
        "A classe *Processo* cria o processo de envio de mensagens do dispositivo."
      ],
      "metadata": {
        "id": "wZSIr1on1oCR"
      }
    },
    {
      "cell_type": "code",
      "execution_count": null,
      "metadata": {
        "id": "RR7SG7flt_Dt"
      },
      "outputs": [],
      "source": [
        "class Processo():\n",
        "  def __init__(self, dispositivo, entradas, saidas):\n",
        "    self.entradas = entradas\n",
        "    self.saidas = saidas\n",
        "    self.assinatura = dispositivo.assinatura(\n",
        "        json.dumps(\n",
        "            self.to_dict(inclue_assinatura=False)))\n",
        "        \n",
        "  def to_dict(self, inclue_assinatura=True):\n",
        "    d = {\n",
        "      \"entradas\": list(map(ProcessoEntrada.to_dict, self.entradas)),\n",
        "      \"saidas\": list(map(ProcessoSaida.to_dict, self.saidas))\n",
        "    }\n",
        "    if inclue_assinatura:\n",
        "      d[\"assinatura\"] = self.assinatura\n",
        "    return d\n",
        "    \n",
        "  def hash(self):\n",
        "    return hash_iot(json.dumps(self.to_dict()))"
      ]
    },
    {
      "cell_type": "markdown",
      "source": [
        "Assim todos os processos precisam de um pai, desta forma, é necessário definir uma raiz de origem na hierarquia. Essa ponto de partida será o *ProcessoRaiz*."
      ],
      "metadata": {
        "id": "kWJVdm7o13as"
      }
    },
    {
      "cell_type": "code",
      "execution_count": null,
      "metadata": {
        "id": "10NimIlqt_Dt"
      },
      "outputs": [],
      "source": [
        "class ProcessoRaiz(Processo):\n",
        "  def __init__(self, endereco_destino, mensagem='primeiro processo'):\n",
        "    self.entradas = []\n",
        "    self.saidas = [ProcessoSaida(endereco_destino, mensagem)]\n",
        "    self.assinatura = 'origem'\n",
        "        \n",
        "  def to_dict(self, inclue_assinatura=False):\n",
        "    assert not inclue_assinatura, 'Não pode incluir assinatura no processo raiz'\n",
        "    return super().to_dict(inclue_assinatura=False)"
      ]
    },
    {
      "cell_type": "markdown",
      "source": [
        "### Testando os Processos Entre 3 Sensores"
      ],
      "metadata": {
        "id": "g3BzeWjd3F1C"
      }
    },
    {
      "cell_type": "code",
      "execution_count": null,
      "metadata": {
        "scrolled": true,
        "id": "r1zgVrOit_Du"
      },
      "outputs": [],
      "source": [
        "Corrente = Dispositivo()\n",
        "Tensao = Dispositivo()\n",
        "Ilumina = Dispositivo()\n",
        "\n",
        "p1 = ProcessoRaiz(Corrente.endereco,'2.1678A')\n",
        "\n",
        "p2 = Processo(Corrente, [ProcessoEntrada(p1, 0)], [ProcessoSaida(Tensao.endereco, '121.71Vac')])\n",
        "\n",
        "p3 = Processo(Corrente, [ProcessoEntrada(p1, 0)], [ProcessoSaida(Tensao.endereco, '119.25Vac'), ProcessoSaida(Ilumina.endereco, '1024Lu')])\n",
        "\n",
        "p4 = Processo(Ilumina, [ProcessoEntrada(p3, 1)], [ProcessoSaida(Tensao.endereco, '128.12Vac')])\n",
        "\n",
        "p5 = Processo(Tensao,[ProcessoEntrada(p2, 0), ProcessoEntrada(p3, 0),ProcessoEntrada(p4, 0)],[ProcessoSaida(Ilumina.endereco, '971Lu')])\n",
        "\n",
        "processos = [p1, p2, p3, p4 , p5]\n",
        "processos"
      ]
    },
    {
      "cell_type": "markdown",
      "source": [
        "No blockchain, você nunca armazena todas as mensagens em seu dispositivo. \n",
        "\n",
        "Em vez disso, você percorre toda a cadeia de processos para visualizar todas as suas mensagens. \n",
        "\n",
        "A função *ver_mensagens* list as mensagens nos processos de um endereço fornecido."
      ],
      "metadata": {
        "id": "WwgllqQy5_pp"
      }
    },
    {
      "cell_type": "code",
      "execution_count": null,
      "metadata": {
        "id": "l3jhU62Ct_Dv"
      },
      "outputs": [],
      "source": [
        "def ver_mensagens(endereco_dispositivo, processos):\n",
        "  mensagens = []\n",
        "  for p in processos:\n",
        "    for ps in p.saidas:\n",
        "        if ps.destino == endereco_dispositivo:\n",
        "            mensagens.append(ps.mensagem)\n",
        "  return mensagens"
      ]
    },
    {
      "cell_type": "markdown",
      "metadata": {
        "id": "2xDQCqUKt_Dv"
      },
      "source": [
        "### Listando Mensagens dos Processos"
      ]
    },
    {
      "cell_type": "code",
      "execution_count": null,
      "metadata": {
        "id": "Jr2gImh5t_Dv"
      },
      "outputs": [],
      "source": [
        "print(\"Mensagens da Corrente\", ver_mensagens(Corrente.endereco, processos),'\\n')\n",
        "print(\"Mensagens da Tensão\" , ver_mensagens(Tensao.endereco, processos),'\\n')\n",
        "print(\"Mensagens da Iluminação\" , ver_mensagens(Ilumina.endereco, processos),'\\n')"
      ]
    },
    {
      "cell_type": "markdown",
      "source": [
        "### Verificação de Processo Válido"
      ],
      "metadata": {
        "id": "vSxJfCq1jkVb"
      }
    },
    {
      "cell_type": "markdown",
      "source": [
        "Todas as mensagens de um endereço de dispositivo são enviadas por esse endereço de dispositivo. Deve verificar então:\n",
        "- Todas as entradas fazem parte do proprietário do dispositivo;\n",
        "- O processo deve ser assinado pelo proprietário do dispositivo."
      ],
      "metadata": {
        "id": "7ZUGeRsbjoMf"
      }
    },
    {
      "cell_type": "code",
      "execution_count": null,
      "metadata": {
        "id": "k6y_VgnNt_Dw"
      },
      "outputs": [],
      "source": [
        "def verifica_processo(Processo):\n",
        "\n",
        "  pr_mensagem = json.dumps(Processo.to_dict(inclue_assinatura=False)) \n",
        "\n",
        "  # processo raiz não é validado aqui\n",
        "  if isinstance(Processo, ProcessoRaiz):\n",
        "    return True\n",
        "\n",
        "  # 1 - Verifica os processos interligados com recursividade\n",
        "  for px in Processo.entradas:\n",
        "    if not verifica_processo(px.processo):\n",
        "        print('Processo pai inválido')\n",
        "        return False\n",
        "    \n",
        "  endereco_entrada_inicial = Processo.entradas[0].saida_pai.destino    \n",
        "  for prin in Processo.entradas[1:]:\n",
        "    if prin.saida_pai.destino != endereco_entrada_inicial:\n",
        "      print('Processo de entrada pertence a multiplos dispositivos:',\n",
        "            prin.saida_pai.destino, \n",
        "            ';',\n",
        "            endereco_entrada_inicial)\n",
        "    return False\n",
        "    \n",
        "  # 2 - Verifica assinatura\n",
        "  if not verifica_assinatura(endereco_entrada_inicial, pr_mensagem, Processo.assinatura):\n",
        "    print('Assinatura do processo inválida, endereço não está incorreto?')\n",
        "    return False\n",
        "\n",
        "  return True"
      ]
    },
    {
      "cell_type": "markdown",
      "source": [
        "## Fazendo o Processo p3 ser inválido para Teste"
      ],
      "metadata": {
        "id": "db8huU9wl4aS"
      }
    },
    {
      "cell_type": "markdown",
      "source": [
        "Criando uma corrente de mensagens incorreta no processo 3.\n",
        "\n",
        "Onde o dispositivo Tensão sobrepoem o dispositivo Corrente."
      ],
      "metadata": {
        "id": "4C7h_EtHl-WC"
      }
    },
    {
      "cell_type": "code",
      "execution_count": null,
      "metadata": {
        "id": "8SR9iRgLt_Dw"
      },
      "outputs": [],
      "source": [
        "p1 = ProcessoRaiz(Corrente.endereco,'2.2541A')\n",
        "\n",
        "p2 = Processo(Corrente, [ProcessoEntrada(p1, 0)], [ProcessoSaida(Ilumina.endereco, '1003Lu')])\n",
        "\n",
        "p3 = Processo(Tensao, [ProcessoEntrada(p1, 0)],[ProcessoSaida(Ilumina.endereco, '1102Lu')])\n",
        "\n",
        "processos = [p1, p2, p3]\n",
        "processos"
      ]
    },
    {
      "cell_type": "markdown",
      "metadata": {
        "id": "US8QQloOt_Dx"
      },
      "source": [
        "### Validando os Processos"
      ]
    },
    {
      "cell_type": "code",
      "execution_count": null,
      "metadata": {
        "id": "a17zdsZRt_Dx"
      },
      "outputs": [],
      "source": [
        "print('Verifica p1:')\n",
        "print('   ',verifica_processo(p1))\n",
        "print('Verifica p2:')\n",
        "print('   ',verifica_processo(p2))\n",
        "print('Verifica p3:')\n",
        "print('   ',verifica_processo(p3))"
      ]
    },
    {
      "cell_type": "markdown",
      "metadata": {
        "id": "IbEJP396t_Dx"
      },
      "source": [
        "## Inserindo os Processos em Blocos"
      ]
    },
    {
      "cell_type": "markdown",
      "source": [
        "Após os seguintes passos anteriores:\n",
        "- Definir um dispositivo com chaves privadas e públicas;\n",
        "- Criar processos entre os dispositivos;\n",
        "- Verificar se os processos são válidos por assinatura.\n",
        "\n",
        "Passo atual é inserir os processos em blocos e realizar a mineração de exploração.\n",
        "\n",
        "A mineração do bloco consiste:\n",
        "- Verificar os processos no bloco;\n",
        "- Encontrar o Nonce conforme os números zero na frente do hash do bloco."
      ],
      "metadata": {
        "id": "bf05zO2lpc0I"
      }
    },
    {
      "cell_type": "code",
      "source": [
        "# dificuldade da mineração\n",
        "dificuldade = 2 \n",
        "\n",
        "class Bloco():\n",
        "  def __init__(self, processos_bloco_atual, bloco_anterior, endereco_minerador, verificar=True):\n",
        "    self.processos_bloco_atual = [ProcessoRaiz(endereco_minerador)] + processos_bloco_atual\n",
        "    self.bloco_anterior = bloco_anterior\n",
        "\n",
        "    if verificar:\n",
        "      # gera erro de verificação\n",
        "      assert all(map(verifica_processo, processos_bloco_atual))\n",
        "\n",
        "    json_block = json.dumps(self.to_dict(inclue_hash=False))\n",
        "    self.nonce, _ = minerador(json_block, dificuldade)\n",
        "    self.hash = hash_iot(json_block + self.nonce)\n",
        "  \n",
        "  def to_dict(self, inclue_hash=True):\n",
        "    d = {\n",
        "      \"processos\": list(map(Processo.to_dict, self.processos_bloco_atual)),\n",
        "      \"bloco_anterior\": self.bloco_anterior.hash,\n",
        "      }\n",
        "    if inclue_hash:\n",
        "        d[\"nonce\"] = self.nonce\n",
        "        d[\"hash\"] = self.hash\n",
        "    return d\n",
        "\n",
        "# Bloco sem anterior\n",
        "class BlocoInicial(Bloco):\n",
        "  def __init__(self, endereco_minerador):\n",
        "    super(BlocoInicial, self).__init__(\n",
        "        processos_bloco_atual=[], \n",
        "        bloco_anterior=None, \n",
        "        endereco_minerador=endereco_minerador,\n",
        "        )\n",
        "  def to_dict(self, inclue_hash=True):\n",
        "    d = {\n",
        "      \"processos\": [],\n",
        "      \"bloco_anterior\": True,\n",
        "      }\n",
        "    if inclue_hash:\n",
        "        d[\"nonce\"] = self.nonce\n",
        "        d[\"hash\"] = self.hash\n",
        "    return d"
      ],
      "metadata": {
        "id": "othCk42TqH15"
      },
      "execution_count": null,
      "outputs": []
    },
    {
      "cell_type": "markdown",
      "source": [
        "### Verificação de Blocos"
      ],
      "metadata": {
        "id": "EaOf4YVGsYG_"
      }
    },
    {
      "cell_type": "markdown",
      "source": [
        "Passos de verificação de blocos:\n",
        " 1. Verificar o hash **inicia com** um número necessário de **1** (2 neste caso);\n",
        " 2. Verificar **todos os processos** são **válidos**;\n",
        " 3. Verificar o **primeiro processo** do bloco é um **ProcessoRaiz**."
      ],
      "metadata": {
        "id": "6bfxW8HAsnsM"
      }
    },
    {
      "cell_type": "code",
      "execution_count": null,
      "metadata": {
        "id": "trr0Drtrt_Dz"
      },
      "outputs": [],
      "source": [
        "def verifica_bloco(bloco, primeiro_bloco, saidas_usadas=None):\n",
        "  '''\n",
        "  Argumentos:\n",
        "     bloco = bloco a ser validado\n",
        "     primeiro_bloco = primeiro bloco a ser compartilhado com todos\n",
        "     saidas_usadas = lista de saídas usadas nos processos dos bloco sobre este\n",
        "  '''\n",
        "  if saidas_usadas is None:\n",
        "    saidas_usadas = set()\n",
        "  \n",
        "  # 1 - Verifica hash\n",
        "  prefixo = '1' * dificuldade\n",
        "  if not bloco.hash.startswith(prefixo):\n",
        "    print('O Hash do Bloco',bloco.hash,'não corresponde com o prefixo',prefixo)\n",
        "    return False\n",
        "  \n",
        "  # 2.a - Processos são válidos\n",
        "  if not all(map(verifica_processo, bloco.processos_bloco_atual)):\n",
        "    return False\n",
        "  \n",
        "  # 2.b - Verificando blocos após primeiro bloco\n",
        "  if not (bloco.hash == primeiro_bloco.hash):\n",
        "    if not verifica_bloco(bloco.bloco_anterior, primeiro_bloco, saidas_usadas):\n",
        "      print('Falha na autenticação do bloco posterior!')\n",
        "      return False\n",
        "  \n",
        "  # 3.a - Verificar processo inicial é Raiz\n",
        "  pr0 = bloco.processos_bloco_atual[0]\n",
        "  if not isinstance(pr0, ProcessoRaiz):\n",
        "    print('Processo inicial não é Raiz!')\n",
        "    return False\n",
        "\n",
        "  # 3.b - Verificar os demais processos\n",
        "  for i, pr in enumerate(bloco.processos_bloco_atual):\n",
        "    if i == 0:\n",
        "      if not isinstance(pr, ProcessoRaiz):\n",
        "        print('Processo inicial não é Raiz!')\n",
        "        return False  \n",
        "    elif isinstance(pr, ProcessoRaiz):\n",
        "      print('Processo Raiz está na posição',i,'!')\n",
        "      return False\n",
        "  \n",
        "  return True"
      ]
    },
    {
      "cell_type": "markdown",
      "metadata": {
        "id": "IMK_6iz8t_Dz"
      },
      "source": [
        "## Validando os Blocos em Teste"
      ]
    },
    {
      "cell_type": "code",
      "source": [
        "Corrente = Dispositivo()\n",
        "Tensao = Dispositivo()\n",
        "Ilumina = Dispositivo()\n",
        "\n",
        "# corrente minerada no primeiro bloco\n",
        "primeiro_bloco = BlocoInicial(endereco_minerador=Corrente.endereco)\n",
        "\n",
        "# processo raiz\n",
        "p1 = primeiro_bloco.processos_bloco_atual[0]\n",
        "\n",
        "p2 = Processo(\n",
        "    Corrente,\n",
        "    [ProcessoEntrada(p1, 0)],\n",
        "    [ProcessoSaida(Tensao.endereco, '126.9V'), \n",
        "     ProcessoSaida(Ilumina.endereco, '923Lu')],\n",
        "     )\n",
        "\n",
        "p3 = Processo(\n",
        "    Ilumina,\n",
        "    [ProcessoEntrada(p2, 1)], \n",
        "    [ProcessoSaida(Tensao.endereco, '128.4V')],\n",
        "    )\n",
        "\n",
        "p4 = Processo(\n",
        "    Tensao, \n",
        "    [ProcessoEntrada(p2, 0)],\n",
        "    [ProcessoSaida(Ilumina.endereco, '1234Lu')]\n",
        ")\n",
        "\n",
        "# Tensão minerada no bloco 1\n",
        "bloco1 = Bloco([p2,p3], bloco_anterior=primeiro_bloco, endereco_minerador=Tensao.endereco)\n",
        "\n",
        "# Iluminação minerada no bloco 2\n",
        "bloco2 = Bloco([p4], bloco_anterior=bloco1, endereco_minerador=Ilumina.endereco) \n",
        "\n",
        "print(\"Hash 1o bloco:\", primeiro_bloco.hash)\n",
        "print(\"Hash bloco 1 :\", bloco1.hash)\n",
        "print(\"Hash bloco 2 :\", bloco2.hash)\n",
        "print('====')\n",
        "print('Verificar 1o bloco')\n",
        "print('   ',verifica_bloco(primeiro_bloco, primeiro_bloco))\n",
        "print('Verificar bloco 1')\n",
        "print('   ',verifica_bloco(bloco1, primeiro_bloco))\n",
        "print('Verificar bloco 2')\n",
        "print('   ',verifica_bloco(bloco2, primeiro_bloco))"
      ],
      "metadata": {
        "id": "TRL_SLU3EKVa"
      },
      "execution_count": null,
      "outputs": []
    },
    {
      "cell_type": "markdown",
      "source": [
        "## Gerando o *Blockchain*"
      ],
      "metadata": {
        "id": "3aufZOCJLXtz"
      }
    },
    {
      "cell_type": "code",
      "source": [
        "def processa_cadeia(bloco, primeiro_bloco):\n",
        "  '''\n",
        "  Coleta recursivamente os processos do bloco e \n",
        "  seus blocos anteriores para simular uma mensagem em Blockchain\n",
        "  '''\n",
        "  processos = [] + bloco.processos_bloco_atual\n",
        "  if bloco.hash != primeiro_bloco.hash:\n",
        "    processos += processa_cadeia(bloco.bloco_anterior, primeiro_bloco)\n",
        "\n",
        "  return processos"
      ],
      "metadata": {
        "id": "GMSI-QbtLXfb"
      },
      "execution_count": null,
      "outputs": []
    },
    {
      "cell_type": "markdown",
      "source": [
        "### Processando Blockchain"
      ],
      "metadata": {
        "id": "E-fMvwm7MJiK"
      }
    },
    {
      "cell_type": "code",
      "source": [
        "processos = processa_cadeia(bloco2, primeiro_bloco)\n",
        "\n",
        "print('Mensagens de Corrente:', ver_mensagens(Corrente.endereco, processos))\n",
        "print('Mensagens de Tensão:', ver_mensagens(Tensao.endereco, processos))\n",
        "print('Mensagens de Iluminação:', ver_mensagens(Ilumina.endereco, processos))"
      ],
      "metadata": {
        "id": "yI4Wo5O9MOjI"
      },
      "execution_count": null,
      "outputs": []
    }
  ]
}