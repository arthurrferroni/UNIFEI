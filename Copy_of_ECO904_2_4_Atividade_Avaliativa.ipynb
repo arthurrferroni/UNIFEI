{
  "nbformat": 4,
  "nbformat_minor": 0,
  "metadata": {
    "colab": {
      "name": "Copy of ECO904 - 2.4 - Atividade Avaliativa.ipynb",
      "provenance": [],
      "collapsed_sections": [],
      "include_colab_link": true
    },
    "kernelspec": {
      "name": "python3",
      "display_name": "Python 3"
    },
    "language_info": {
      "name": "python"
    }
  },
  "cells": [
    {
      "cell_type": "markdown",
      "metadata": {
        "id": "view-in-github",
        "colab_type": "text"
      },
      "source": [
        "<a href=\"https://colab.research.google.com/github/arthurrferroni/UNIFEI/blob/main/Copy_of_ECO904_2_4_Atividade_Avaliativa.ipynb\" target=\"_parent\"><img src=\"https://colab.research.google.com/assets/colab-badge.svg\" alt=\"Open In Colab\"/></a>"
      ]
    },
    {
      "cell_type": "markdown",
      "source": [
        "# Avalição de Técnicas via o uso de Métricas"
      ],
      "metadata": {
        "id": "rpmK9TgzRijL"
      }
    },
    {
      "cell_type": "markdown",
      "source": [
        "Dado uma base de dados (*Dataset*) defina qual a melhor técnica de aprendizado de máquina que consiga reproduzir os padrões armazenados na base de dados.\n",
        "\n",
        "Nesta atividade realize a \n"
      ],
      "metadata": {
        "id": "8T5R3eFbRpnR"
      }
    },
    {
      "cell_type": "markdown",
      "source": [
        "## Base de Dados"
      ],
      "metadata": {
        "id": "nESXOR9hRo-T"
      }
    },
    {
      "cell_type": "markdown",
      "source": [
        "Gerador de Base de dados do [Scikit-Learn (Sklearn)](https://scikit-learn.org/stable/) para um tutor com 3 classes [0, 1, 2].\n",
        "\n",
        "**Atenção**: Use seu numero de matrícula no campo abaixo para gerar sua base de dados própria. Se esquecer de alterar esse campo o trabalho será anulado."
      ],
      "metadata": {
        "id": "nHP3q9lD9mqy"
      }
    },
    {
      "cell_type": "code",
      "execution_count": null,
      "metadata": {
        "id": "GoC666EERWfI",
        "outputId": "3038b635-5340-484b-b062-b39070181f88",
        "colab": {
          "base_uri": "https://localhost:8080/",
          "height": 224
        }
      },
      "outputs": [
        {
          "output_type": "stream",
          "name": "stdout",
          "text": [
            "1000 linhas x 11 colunas\n"
          ]
        },
        {
          "output_type": "execute_result",
          "data": {
            "text/plain": [
              "       col1      col2      col3      col4      col5      col6      col7  \\\n",
              "0 -1.490048  2.636417 -0.142315  0.399884  1.823919 -0.858275  1.036208   \n",
              "1  0.477547  1.203082 -0.849951  0.195190  0.918414  0.077677  0.612476   \n",
              "2 -0.028831  0.731973  1.296082  1.654042 -0.877432 -1.287589  0.300887   \n",
              "3 -0.170713 -1.418577  1.237180 -1.628896  0.199154  1.076015 -0.480571   \n",
              "4  0.694830  1.375707  0.884580  1.186527 -0.450612  1.315482  1.152835   \n",
              "\n",
              "       col8      col9     col10  tutor  \n",
              "0 -0.884091 -0.437499  1.493653      1  \n",
              "1 -0.156711 -0.130598 -0.349950      1  \n",
              "2  0.445189 -1.012234 -0.044015      2  \n",
              "3 -1.275830  1.818643 -0.316026      2  \n",
              "4 -1.029300 -0.983746  0.085258      1  "
            ],
            "text/html": [
              "\n",
              "  <div id=\"df-aef6eb38-6c52-4eeb-a902-b5b7584415d6\">\n",
              "    <div class=\"colab-df-container\">\n",
              "      <div>\n",
              "<style scoped>\n",
              "    .dataframe tbody tr th:only-of-type {\n",
              "        vertical-align: middle;\n",
              "    }\n",
              "\n",
              "    .dataframe tbody tr th {\n",
              "        vertical-align: top;\n",
              "    }\n",
              "\n",
              "    .dataframe thead th {\n",
              "        text-align: right;\n",
              "    }\n",
              "</style>\n",
              "<table border=\"1\" class=\"dataframe\">\n",
              "  <thead>\n",
              "    <tr style=\"text-align: right;\">\n",
              "      <th></th>\n",
              "      <th>col1</th>\n",
              "      <th>col2</th>\n",
              "      <th>col3</th>\n",
              "      <th>col4</th>\n",
              "      <th>col5</th>\n",
              "      <th>col6</th>\n",
              "      <th>col7</th>\n",
              "      <th>col8</th>\n",
              "      <th>col9</th>\n",
              "      <th>col10</th>\n",
              "      <th>tutor</th>\n",
              "    </tr>\n",
              "  </thead>\n",
              "  <tbody>\n",
              "    <tr>\n",
              "      <th>0</th>\n",
              "      <td>-1.490048</td>\n",
              "      <td>2.636417</td>\n",
              "      <td>-0.142315</td>\n",
              "      <td>0.399884</td>\n",
              "      <td>1.823919</td>\n",
              "      <td>-0.858275</td>\n",
              "      <td>1.036208</td>\n",
              "      <td>-0.884091</td>\n",
              "      <td>-0.437499</td>\n",
              "      <td>1.493653</td>\n",
              "      <td>1</td>\n",
              "    </tr>\n",
              "    <tr>\n",
              "      <th>1</th>\n",
              "      <td>0.477547</td>\n",
              "      <td>1.203082</td>\n",
              "      <td>-0.849951</td>\n",
              "      <td>0.195190</td>\n",
              "      <td>0.918414</td>\n",
              "      <td>0.077677</td>\n",
              "      <td>0.612476</td>\n",
              "      <td>-0.156711</td>\n",
              "      <td>-0.130598</td>\n",
              "      <td>-0.349950</td>\n",
              "      <td>1</td>\n",
              "    </tr>\n",
              "    <tr>\n",
              "      <th>2</th>\n",
              "      <td>-0.028831</td>\n",
              "      <td>0.731973</td>\n",
              "      <td>1.296082</td>\n",
              "      <td>1.654042</td>\n",
              "      <td>-0.877432</td>\n",
              "      <td>-1.287589</td>\n",
              "      <td>0.300887</td>\n",
              "      <td>0.445189</td>\n",
              "      <td>-1.012234</td>\n",
              "      <td>-0.044015</td>\n",
              "      <td>2</td>\n",
              "    </tr>\n",
              "    <tr>\n",
              "      <th>3</th>\n",
              "      <td>-0.170713</td>\n",
              "      <td>-1.418577</td>\n",
              "      <td>1.237180</td>\n",
              "      <td>-1.628896</td>\n",
              "      <td>0.199154</td>\n",
              "      <td>1.076015</td>\n",
              "      <td>-0.480571</td>\n",
              "      <td>-1.275830</td>\n",
              "      <td>1.818643</td>\n",
              "      <td>-0.316026</td>\n",
              "      <td>2</td>\n",
              "    </tr>\n",
              "    <tr>\n",
              "      <th>4</th>\n",
              "      <td>0.694830</td>\n",
              "      <td>1.375707</td>\n",
              "      <td>0.884580</td>\n",
              "      <td>1.186527</td>\n",
              "      <td>-0.450612</td>\n",
              "      <td>1.315482</td>\n",
              "      <td>1.152835</td>\n",
              "      <td>-1.029300</td>\n",
              "      <td>-0.983746</td>\n",
              "      <td>0.085258</td>\n",
              "      <td>1</td>\n",
              "    </tr>\n",
              "  </tbody>\n",
              "</table>\n",
              "</div>\n",
              "      <button class=\"colab-df-convert\" onclick=\"convertToInteractive('df-aef6eb38-6c52-4eeb-a902-b5b7584415d6')\"\n",
              "              title=\"Convert this dataframe to an interactive table.\"\n",
              "              style=\"display:none;\">\n",
              "        \n",
              "  <svg xmlns=\"http://www.w3.org/2000/svg\" height=\"24px\"viewBox=\"0 0 24 24\"\n",
              "       width=\"24px\">\n",
              "    <path d=\"M0 0h24v24H0V0z\" fill=\"none\"/>\n",
              "    <path d=\"M18.56 5.44l.94 2.06.94-2.06 2.06-.94-2.06-.94-.94-2.06-.94 2.06-2.06.94zm-11 1L8.5 8.5l.94-2.06 2.06-.94-2.06-.94L8.5 2.5l-.94 2.06-2.06.94zm10 10l.94 2.06.94-2.06 2.06-.94-2.06-.94-.94-2.06-.94 2.06-2.06.94z\"/><path d=\"M17.41 7.96l-1.37-1.37c-.4-.4-.92-.59-1.43-.59-.52 0-1.04.2-1.43.59L10.3 9.45l-7.72 7.72c-.78.78-.78 2.05 0 2.83L4 21.41c.39.39.9.59 1.41.59.51 0 1.02-.2 1.41-.59l7.78-7.78 2.81-2.81c.8-.78.8-2.07 0-2.86zM5.41 20L4 18.59l7.72-7.72 1.47 1.35L5.41 20z\"/>\n",
              "  </svg>\n",
              "      </button>\n",
              "      \n",
              "  <style>\n",
              "    .colab-df-container {\n",
              "      display:flex;\n",
              "      flex-wrap:wrap;\n",
              "      gap: 12px;\n",
              "    }\n",
              "\n",
              "    .colab-df-convert {\n",
              "      background-color: #E8F0FE;\n",
              "      border: none;\n",
              "      border-radius: 50%;\n",
              "      cursor: pointer;\n",
              "      display: none;\n",
              "      fill: #1967D2;\n",
              "      height: 32px;\n",
              "      padding: 0 0 0 0;\n",
              "      width: 32px;\n",
              "    }\n",
              "\n",
              "    .colab-df-convert:hover {\n",
              "      background-color: #E2EBFA;\n",
              "      box-shadow: 0px 1px 2px rgba(60, 64, 67, 0.3), 0px 1px 3px 1px rgba(60, 64, 67, 0.15);\n",
              "      fill: #174EA6;\n",
              "    }\n",
              "\n",
              "    [theme=dark] .colab-df-convert {\n",
              "      background-color: #3B4455;\n",
              "      fill: #D2E3FC;\n",
              "    }\n",
              "\n",
              "    [theme=dark] .colab-df-convert:hover {\n",
              "      background-color: #434B5C;\n",
              "      box-shadow: 0px 1px 3px 1px rgba(0, 0, 0, 0.15);\n",
              "      filter: drop-shadow(0px 1px 2px rgba(0, 0, 0, 0.3));\n",
              "      fill: #FFFFFF;\n",
              "    }\n",
              "  </style>\n",
              "\n",
              "      <script>\n",
              "        const buttonEl =\n",
              "          document.querySelector('#df-aef6eb38-6c52-4eeb-a902-b5b7584415d6 button.colab-df-convert');\n",
              "        buttonEl.style.display =\n",
              "          google.colab.kernel.accessAllowed ? 'block' : 'none';\n",
              "\n",
              "        async function convertToInteractive(key) {\n",
              "          const element = document.querySelector('#df-aef6eb38-6c52-4eeb-a902-b5b7584415d6');\n",
              "          const dataTable =\n",
              "            await google.colab.kernel.invokeFunction('convertToInteractive',\n",
              "                                                     [key], {});\n",
              "          if (!dataTable) return;\n",
              "\n",
              "          const docLinkHtml = 'Like what you see? Visit the ' +\n",
              "            '<a target=\"_blank\" href=https://colab.research.google.com/notebooks/data_table.ipynb>data table notebook</a>'\n",
              "            + ' to learn more about interactive tables.';\n",
              "          element.innerHTML = '';\n",
              "          dataTable['output_type'] = 'display_data';\n",
              "          await google.colab.output.renderOutput(dataTable, element);\n",
              "          const docLink = document.createElement('div');\n",
              "          docLink.innerHTML = docLinkHtml;\n",
              "          element.appendChild(docLink);\n",
              "        }\n",
              "      </script>\n",
              "    </div>\n",
              "  </div>\n",
              "  "
            ]
          },
          "metadata": {},
          "execution_count": 1
        }
      ],
      "source": [
        "from sklearn.datasets import make_classification\n",
        "import pandas as pd\n",
        "\n",
        "matricula = 2020017733 #@param {type:\"number\"}\n",
        "num_atributos = 10\n",
        "\n",
        "# gerando atributos:X e tutor:y\n",
        "X, y = make_classification(\n",
        "    n_samples=1000, \n",
        "    n_features=num_atributos, \n",
        "    n_classes=3, \n",
        "    n_informative=6,\n",
        "    class_sep=0.5,\n",
        "    random_state=matricula\n",
        "    )\n",
        "\n",
        "nome_atributos = [f'col{i+1}' for i in range(0,num_atributos)]\n",
        "\n",
        "# criando DataFrame da Base de Dados\n",
        "bd = pd.DataFrame(data=X, columns=nome_atributos)\n",
        "bd['tutor'] = y\n",
        "# exibindo informação da Base de Dados\n",
        "print(bd.shape[0],'linhas x',bd.shape[1],'colunas')\n",
        "bd.head()"
      ]
    },
    {
      "cell_type": "markdown",
      "source": [
        "## Classificadores com Parâmetros Base"
      ],
      "metadata": {
        "id": "YycQDgzCpo3r"
      }
    },
    {
      "cell_type": "markdown",
      "source": [
        "Abaixo são analisadas as acurácias de acerto de [10 técnicas de aprendizado de máquina supervisionado](https://scikit-learn.org/stable/supervised_learning.html) e seus tempos de treinamento.\n",
        "\n",
        "O [modelo de treinamento](https://scikit-learn.org/stable/modules/cross_validation.html) é dividido em conjunto de treinamento (train) e validação (test) para verificar a capacidade de generalização básica (acertar casos desconhecidos baseado no treinamento). "
      ],
      "metadata": {
        "id": "Zqh_r7qlWoIr"
      }
    },
    {
      "cell_type": "code",
      "source": [
        "from sklearn.neural_network import MLPClassifier\n",
        "from sklearn.neighbors import KNeighborsClassifier\n",
        "from sklearn.svm import SVC, LinearSVC\n",
        "from sklearn.gaussian_process import GaussianProcessClassifier\n",
        "from sklearn.tree import DecisionTreeClassifier\n",
        "from sklearn.ensemble import RandomForestClassifier, AdaBoostClassifier\n",
        "from sklearn.naive_bayes import GaussianNB\n",
        "from sklearn.discriminant_analysis import QuadraticDiscriminantAnalysis\n",
        "\n",
        "# classificadores para avaliação\n",
        "classificadores = [\n",
        "    KNeighborsClassifier(),\n",
        "    LinearSVC(random_state=42),\n",
        "    SVC(random_state=42),\n",
        "    GaussianProcessClassifier(random_state=42),\n",
        "    DecisionTreeClassifier(max_depth=5,random_state=42),\n",
        "    RandomForestClassifier(max_depth=5,random_state=42),\n",
        "    MLPClassifier(hidden_layer_sizes=(20,),max_iter=1000,random_state=42),\n",
        "    AdaBoostClassifier(random_state=42),\n",
        "    GaussianNB(),\n",
        "    QuadraticDiscriminantAnalysis(),\n",
        "]\n",
        "\n",
        "# validação cruzada para seleção de modelo\n",
        "from sklearn.model_selection import train_test_split\n",
        "X_train, X_test, y_train, y_test = train_test_split(\n",
        "    X, y, test_size=0.2, random_state=42)\n",
        "\n",
        "# medição de tempo\n",
        "import time\n",
        "\n",
        "# treinamento\n",
        "res=[]\n",
        "for clf in classificadores:\n",
        "  inicio = time.time()\n",
        "  clf.fit(X_train,y_train)\n",
        "  fim = time.time()\n",
        "  acuracia = clf.score(X_test,y_test)\n",
        "  # salvando resultados\n",
        "  res.append({\n",
        "      'modelo':clf.__class__.__name__,\n",
        "      'acurácia':acuracia,\n",
        "      'tempo(s)':fim-inicio})\n",
        "\n",
        "#impressão\n",
        "pd.DataFrame(data=res)"
      ],
      "metadata": {
        "id": "anwW-_yuqDN6",
        "outputId": "8567828b-f1c1-4a88-aed2-13bab7717f6c",
        "colab": {
          "base_uri": "https://localhost:8080/",
          "height": 487
        }
      },
      "execution_count": null,
      "outputs": [
        {
          "output_type": "stream",
          "name": "stderr",
          "text": [
            "/usr/local/lib/python3.7/dist-packages/sklearn/svm/_base.py:1208: ConvergenceWarning: Liblinear failed to converge, increase the number of iterations.\n",
            "  ConvergenceWarning,\n",
            "/usr/local/lib/python3.7/dist-packages/sklearn/neural_network/_multilayer_perceptron.py:696: ConvergenceWarning: Stochastic Optimizer: Maximum iterations (1000) reached and the optimization hasn't converged yet.\n",
            "  ConvergenceWarning,\n",
            "/usr/local/lib/python3.7/dist-packages/sklearn/discriminant_analysis.py:878: UserWarning: Variables are collinear\n",
            "  warnings.warn(\"Variables are collinear\")\n"
          ]
        },
        {
          "output_type": "execute_result",
          "data": {
            "text/plain": [
              "                          modelo  acurácia  tempo(s)\n",
              "0           KNeighborsClassifier     0.730  0.005576\n",
              "1                      LinearSVC     0.540  0.335365\n",
              "2                            SVC     0.710  0.175638\n",
              "3      GaussianProcessClassifier     0.735  2.258996\n",
              "4         DecisionTreeClassifier     0.580  0.014018\n",
              "5         RandomForestClassifier     0.635  0.525272\n",
              "6                  MLPClassifier     0.730  4.668223\n",
              "7             AdaBoostClassifier     0.535  0.258993\n",
              "8                     GaussianNB     0.545  0.010019\n",
              "9  QuadraticDiscriminantAnalysis     0.595  0.016631"
            ],
            "text/html": [
              "\n",
              "  <div id=\"df-a14199c1-f84f-4382-87ed-c39fdaa32735\">\n",
              "    <div class=\"colab-df-container\">\n",
              "      <div>\n",
              "<style scoped>\n",
              "    .dataframe tbody tr th:only-of-type {\n",
              "        vertical-align: middle;\n",
              "    }\n",
              "\n",
              "    .dataframe tbody tr th {\n",
              "        vertical-align: top;\n",
              "    }\n",
              "\n",
              "    .dataframe thead th {\n",
              "        text-align: right;\n",
              "    }\n",
              "</style>\n",
              "<table border=\"1\" class=\"dataframe\">\n",
              "  <thead>\n",
              "    <tr style=\"text-align: right;\">\n",
              "      <th></th>\n",
              "      <th>modelo</th>\n",
              "      <th>acurácia</th>\n",
              "      <th>tempo(s)</th>\n",
              "    </tr>\n",
              "  </thead>\n",
              "  <tbody>\n",
              "    <tr>\n",
              "      <th>0</th>\n",
              "      <td>KNeighborsClassifier</td>\n",
              "      <td>0.730</td>\n",
              "      <td>0.005576</td>\n",
              "    </tr>\n",
              "    <tr>\n",
              "      <th>1</th>\n",
              "      <td>LinearSVC</td>\n",
              "      <td>0.540</td>\n",
              "      <td>0.335365</td>\n",
              "    </tr>\n",
              "    <tr>\n",
              "      <th>2</th>\n",
              "      <td>SVC</td>\n",
              "      <td>0.710</td>\n",
              "      <td>0.175638</td>\n",
              "    </tr>\n",
              "    <tr>\n",
              "      <th>3</th>\n",
              "      <td>GaussianProcessClassifier</td>\n",
              "      <td>0.735</td>\n",
              "      <td>2.258996</td>\n",
              "    </tr>\n",
              "    <tr>\n",
              "      <th>4</th>\n",
              "      <td>DecisionTreeClassifier</td>\n",
              "      <td>0.580</td>\n",
              "      <td>0.014018</td>\n",
              "    </tr>\n",
              "    <tr>\n",
              "      <th>5</th>\n",
              "      <td>RandomForestClassifier</td>\n",
              "      <td>0.635</td>\n",
              "      <td>0.525272</td>\n",
              "    </tr>\n",
              "    <tr>\n",
              "      <th>6</th>\n",
              "      <td>MLPClassifier</td>\n",
              "      <td>0.730</td>\n",
              "      <td>4.668223</td>\n",
              "    </tr>\n",
              "    <tr>\n",
              "      <th>7</th>\n",
              "      <td>AdaBoostClassifier</td>\n",
              "      <td>0.535</td>\n",
              "      <td>0.258993</td>\n",
              "    </tr>\n",
              "    <tr>\n",
              "      <th>8</th>\n",
              "      <td>GaussianNB</td>\n",
              "      <td>0.545</td>\n",
              "      <td>0.010019</td>\n",
              "    </tr>\n",
              "    <tr>\n",
              "      <th>9</th>\n",
              "      <td>QuadraticDiscriminantAnalysis</td>\n",
              "      <td>0.595</td>\n",
              "      <td>0.016631</td>\n",
              "    </tr>\n",
              "  </tbody>\n",
              "</table>\n",
              "</div>\n",
              "      <button class=\"colab-df-convert\" onclick=\"convertToInteractive('df-a14199c1-f84f-4382-87ed-c39fdaa32735')\"\n",
              "              title=\"Convert this dataframe to an interactive table.\"\n",
              "              style=\"display:none;\">\n",
              "        \n",
              "  <svg xmlns=\"http://www.w3.org/2000/svg\" height=\"24px\"viewBox=\"0 0 24 24\"\n",
              "       width=\"24px\">\n",
              "    <path d=\"M0 0h24v24H0V0z\" fill=\"none\"/>\n",
              "    <path d=\"M18.56 5.44l.94 2.06.94-2.06 2.06-.94-2.06-.94-.94-2.06-.94 2.06-2.06.94zm-11 1L8.5 8.5l.94-2.06 2.06-.94-2.06-.94L8.5 2.5l-.94 2.06-2.06.94zm10 10l.94 2.06.94-2.06 2.06-.94-2.06-.94-.94-2.06-.94 2.06-2.06.94z\"/><path d=\"M17.41 7.96l-1.37-1.37c-.4-.4-.92-.59-1.43-.59-.52 0-1.04.2-1.43.59L10.3 9.45l-7.72 7.72c-.78.78-.78 2.05 0 2.83L4 21.41c.39.39.9.59 1.41.59.51 0 1.02-.2 1.41-.59l7.78-7.78 2.81-2.81c.8-.78.8-2.07 0-2.86zM5.41 20L4 18.59l7.72-7.72 1.47 1.35L5.41 20z\"/>\n",
              "  </svg>\n",
              "      </button>\n",
              "      \n",
              "  <style>\n",
              "    .colab-df-container {\n",
              "      display:flex;\n",
              "      flex-wrap:wrap;\n",
              "      gap: 12px;\n",
              "    }\n",
              "\n",
              "    .colab-df-convert {\n",
              "      background-color: #E8F0FE;\n",
              "      border: none;\n",
              "      border-radius: 50%;\n",
              "      cursor: pointer;\n",
              "      display: none;\n",
              "      fill: #1967D2;\n",
              "      height: 32px;\n",
              "      padding: 0 0 0 0;\n",
              "      width: 32px;\n",
              "    }\n",
              "\n",
              "    .colab-df-convert:hover {\n",
              "      background-color: #E2EBFA;\n",
              "      box-shadow: 0px 1px 2px rgba(60, 64, 67, 0.3), 0px 1px 3px 1px rgba(60, 64, 67, 0.15);\n",
              "      fill: #174EA6;\n",
              "    }\n",
              "\n",
              "    [theme=dark] .colab-df-convert {\n",
              "      background-color: #3B4455;\n",
              "      fill: #D2E3FC;\n",
              "    }\n",
              "\n",
              "    [theme=dark] .colab-df-convert:hover {\n",
              "      background-color: #434B5C;\n",
              "      box-shadow: 0px 1px 3px 1px rgba(0, 0, 0, 0.15);\n",
              "      filter: drop-shadow(0px 1px 2px rgba(0, 0, 0, 0.3));\n",
              "      fill: #FFFFFF;\n",
              "    }\n",
              "  </style>\n",
              "\n",
              "      <script>\n",
              "        const buttonEl =\n",
              "          document.querySelector('#df-a14199c1-f84f-4382-87ed-c39fdaa32735 button.colab-df-convert');\n",
              "        buttonEl.style.display =\n",
              "          google.colab.kernel.accessAllowed ? 'block' : 'none';\n",
              "\n",
              "        async function convertToInteractive(key) {\n",
              "          const element = document.querySelector('#df-a14199c1-f84f-4382-87ed-c39fdaa32735');\n",
              "          const dataTable =\n",
              "            await google.colab.kernel.invokeFunction('convertToInteractive',\n",
              "                                                     [key], {});\n",
              "          if (!dataTable) return;\n",
              "\n",
              "          const docLinkHtml = 'Like what you see? Visit the ' +\n",
              "            '<a target=\"_blank\" href=https://colab.research.google.com/notebooks/data_table.ipynb>data table notebook</a>'\n",
              "            + ' to learn more about interactive tables.';\n",
              "          element.innerHTML = '';\n",
              "          dataTable['output_type'] = 'display_data';\n",
              "          await google.colab.output.renderOutput(dataTable, element);\n",
              "          const docLink = document.createElement('div');\n",
              "          docLink.innerHTML = docLinkHtml;\n",
              "          element.appendChild(docLink);\n",
              "        }\n",
              "      </script>\n",
              "    </div>\n",
              "  </div>\n",
              "  "
            ]
          },
          "metadata": {},
          "execution_count": 2
        }
      ]
    },
    {
      "cell_type": "markdown",
      "source": [
        "### Métricas de Avaliação"
      ],
      "metadata": {
        "id": "GjB_OKYzrnzX"
      }
    },
    {
      "cell_type": "markdown",
      "source": [
        "Os modelos matemáticos obtidos do treinamento são avaliados pelas métricas de [acurácia, precisão, recall, F1 e matriz de confusão](https://scikit-learn.org/stable/modules/model_evaluation.html#classification-metrics)."
      ],
      "metadata": {
        "id": "pMCtizG9-Pui"
      }
    },
    {
      "cell_type": "code",
      "source": [
        "from sklearn.metrics import classification_report, confusion_matrix\n",
        "\n",
        "for clf in classificadores:\n",
        "  print('_________________________________')\n",
        "  print(f'{clf.__class__.__name__}\\n')\n",
        "  y_pred = clf.predict(X_test)\n",
        "  print(classification_report(y_test,y_pred))\n",
        "  print('Matriz de confusão:')\n",
        "  print(confusion_matrix(y_test,y_pred),'\\n\\n')"
      ],
      "metadata": {
        "id": "LB0GWRLqrnWQ",
        "outputId": "68f03673-2680-44ce-b044-2f1b606d5e64",
        "colab": {
          "base_uri": "https://localhost:8080/"
        }
      },
      "execution_count": null,
      "outputs": [
        {
          "output_type": "stream",
          "name": "stdout",
          "text": [
            "_________________________________\n",
            "KNeighborsClassifier\n",
            "\n",
            "              precision    recall  f1-score   support\n",
            "\n",
            "           0       0.64      0.83      0.72        59\n",
            "           1       0.79      0.75      0.77        73\n",
            "           2       0.79      0.62      0.69        68\n",
            "\n",
            "    accuracy                           0.73       200\n",
            "   macro avg       0.74      0.73      0.73       200\n",
            "weighted avg       0.74      0.73      0.73       200\n",
            "\n",
            "Matriz de confusão:\n",
            "[[49  6  4]\n",
            " [11 55  7]\n",
            " [17  9 42]] \n",
            "\n",
            "\n",
            "_________________________________\n",
            "LinearSVC\n",
            "\n",
            "              precision    recall  f1-score   support\n",
            "\n",
            "           0       0.48      0.49      0.49        59\n",
            "           1       0.59      0.74      0.65        73\n",
            "           2       0.52      0.37      0.43        68\n",
            "\n",
            "    accuracy                           0.54       200\n",
            "   macro avg       0.53      0.53      0.52       200\n",
            "weighted avg       0.53      0.54      0.53       200\n",
            "\n",
            "Matriz de confusão:\n",
            "[[29 17 13]\n",
            " [ 9 54 10]\n",
            " [22 21 25]] \n",
            "\n",
            "\n",
            "_________________________________\n",
            "SVC\n",
            "\n",
            "              precision    recall  f1-score   support\n",
            "\n",
            "           0       0.67      0.71      0.69        59\n",
            "           1       0.73      0.84      0.78        73\n",
            "           2       0.74      0.57      0.64        68\n",
            "\n",
            "    accuracy                           0.71       200\n",
            "   macro avg       0.71      0.71      0.70       200\n",
            "weighted avg       0.71      0.71      0.71       200\n",
            "\n",
            "Matriz de confusão:\n",
            "[[42  9  8]\n",
            " [ 6 61  6]\n",
            " [15 14 39]] \n",
            "\n",
            "\n",
            "_________________________________\n",
            "GaussianProcessClassifier\n",
            "\n",
            "              precision    recall  f1-score   support\n",
            "\n",
            "           0       0.69      0.78      0.73        59\n",
            "           1       0.79      0.73      0.76        73\n",
            "           2       0.73      0.71      0.72        68\n",
            "\n",
            "    accuracy                           0.73       200\n",
            "   macro avg       0.73      0.74      0.73       200\n",
            "weighted avg       0.74      0.73      0.74       200\n",
            "\n",
            "Matriz de confusão:\n",
            "[[46  5  8]\n",
            " [10 53 10]\n",
            " [11  9 48]] \n",
            "\n",
            "\n",
            "_________________________________\n",
            "DecisionTreeClassifier\n",
            "\n",
            "              precision    recall  f1-score   support\n",
            "\n",
            "           0       0.63      0.49      0.55        59\n",
            "           1       0.58      0.75      0.65        73\n",
            "           2       0.54      0.47      0.50        68\n",
            "\n",
            "    accuracy                           0.58       200\n",
            "   macro avg       0.58      0.57      0.57       200\n",
            "weighted avg       0.58      0.58      0.57       200\n",
            "\n",
            "Matriz de confusão:\n",
            "[[29 16 14]\n",
            " [ 5 55 13]\n",
            " [12 24 32]] \n",
            "\n",
            "\n",
            "_________________________________\n",
            "RandomForestClassifier\n",
            "\n",
            "              precision    recall  f1-score   support\n",
            "\n",
            "           0       0.67      0.56      0.61        59\n",
            "           1       0.62      0.86      0.72        73\n",
            "           2       0.62      0.46      0.53        68\n",
            "\n",
            "    accuracy                           0.64       200\n",
            "   macro avg       0.64      0.63      0.62       200\n",
            "weighted avg       0.64      0.64      0.62       200\n",
            "\n",
            "Matriz de confusão:\n",
            "[[33 14 12]\n",
            " [ 3 63  7]\n",
            " [13 24 31]] \n",
            "\n",
            "\n",
            "_________________________________\n",
            "MLPClassifier\n",
            "\n",
            "              precision    recall  f1-score   support\n",
            "\n",
            "           0       0.71      0.75      0.73        59\n",
            "           1       0.77      0.73      0.75        73\n",
            "           2       0.71      0.72      0.72        68\n",
            "\n",
            "    accuracy                           0.73       200\n",
            "   macro avg       0.73      0.73      0.73       200\n",
            "weighted avg       0.73      0.73      0.73       200\n",
            "\n",
            "Matriz de confusão:\n",
            "[[44  6  9]\n",
            " [ 9 53 11]\n",
            " [ 9 10 49]] \n",
            "\n",
            "\n",
            "_________________________________\n",
            "AdaBoostClassifier\n",
            "\n",
            "              precision    recall  f1-score   support\n",
            "\n",
            "           0       0.52      0.46      0.49        59\n",
            "           1       0.59      0.70      0.64        73\n",
            "           2       0.47      0.43      0.45        68\n",
            "\n",
            "    accuracy                           0.54       200\n",
            "   macro avg       0.53      0.53      0.52       200\n",
            "weighted avg       0.53      0.54      0.53       200\n",
            "\n",
            "Matriz de confusão:\n",
            "[[27 12 20]\n",
            " [ 9 51 13]\n",
            " [16 23 29]] \n",
            "\n",
            "\n",
            "_________________________________\n",
            "GaussianNB\n",
            "\n",
            "              precision    recall  f1-score   support\n",
            "\n",
            "           0       0.51      0.53      0.52        59\n",
            "           1       0.58      0.74      0.65        73\n",
            "           2       0.52      0.35      0.42        68\n",
            "\n",
            "    accuracy                           0.55       200\n",
            "   macro avg       0.54      0.54      0.53       200\n",
            "weighted avg       0.54      0.55      0.53       200\n",
            "\n",
            "Matriz de confusão:\n",
            "[[31 16 12]\n",
            " [ 9 54 10]\n",
            " [21 23 24]] \n",
            "\n",
            "\n",
            "_________________________________\n",
            "QuadraticDiscriminantAnalysis\n",
            "\n",
            "              precision    recall  f1-score   support\n",
            "\n",
            "           0       0.68      0.47      0.56        59\n",
            "           1       0.62      0.79      0.69        73\n",
            "           2       0.51      0.49      0.50        68\n",
            "\n",
            "    accuracy                           0.59       200\n",
            "   macro avg       0.60      0.58      0.58       200\n",
            "weighted avg       0.60      0.59      0.59       200\n",
            "\n",
            "Matriz de confusão:\n",
            "[[28 12 19]\n",
            " [ 2 58 13]\n",
            " [11 24 33]] \n",
            "\n",
            "\n"
          ]
        }
      ]
    },
    {
      "cell_type": "markdown",
      "source": [
        "# ATIVIDADES"
      ],
      "metadata": {
        "id": "5_Bl1c1wch27"
      }
    },
    {
      "cell_type": "markdown",
      "source": [
        "## Perguntas"
      ],
      "metadata": {
        "id": "Yl0ShLl8gZO7"
      }
    },
    {
      "cell_type": "markdown",
      "source": [
        "10% da nota da atividade por questão"
      ],
      "metadata": {
        "id": "a6V_YGe9hecV"
      }
    },
    {
      "cell_type": "markdown",
      "source": [
        "1) Qual técnica do tópico \"Classificadores com Parâmetros Base\" teve maior acurácia?"
      ],
      "metadata": {
        "id": "cDf7uz0cgam3"
      }
    },
    {
      "cell_type": "code",
      "source": [
        "Resposta1 = \"GaussianProcessClassifier\" #@param {type:\"string\"}\n",
        "print(Resposta1)"
      ],
      "metadata": {
        "id": "kN_Q0vK9gy9E",
        "outputId": "e3227cfa-62a7-4ffa-946b-68644ab22c29",
        "colab": {
          "base_uri": "https://localhost:8080/"
        }
      },
      "execution_count": null,
      "outputs": [
        {
          "output_type": "stream",
          "name": "stdout",
          "text": [
            "GaussianProcessClassifier\n"
          ]
        }
      ]
    },
    {
      "cell_type": "markdown",
      "source": [
        "2) Considerando técnicas com acurácia maior que 70%, qual conseguiu um menor tempo de treinamento?"
      ],
      "metadata": {
        "id": "E3Gw0CWZg7p5"
      }
    },
    {
      "cell_type": "code",
      "source": [
        "Resposta2 = \"KNeighborsClassifier\" #@param {type:\"string\"}\n",
        "print(Resposta2)"
      ],
      "metadata": {
        "id": "Sv6_WrcihTaD",
        "outputId": "32140c84-7763-463a-85ce-a8d52b2b1a8a",
        "colab": {
          "base_uri": "https://localhost:8080/"
        }
      },
      "execution_count": null,
      "outputs": [
        {
          "output_type": "stream",
          "name": "stdout",
          "text": [
            "KNeighborsClassifier\n"
          ]
        }
      ]
    },
    {
      "cell_type": "markdown",
      "source": [
        "3) No tópico \"Métricas de Avaliação\", qual técnica conseguiu a maior F1 para a classe 2?"
      ],
      "metadata": {
        "id": "5z5rreK5hXf4"
      }
    },
    {
      "cell_type": "code",
      "source": [
        "Resposta3 = \"2 iguais\" #@param {type:\"string\"}\n",
        "print(Resposta3)"
      ],
      "metadata": {
        "id": "n_aIi4lShzyz"
      },
      "execution_count": null,
      "outputs": []
    },
    {
      "cell_type": "markdown",
      "source": [
        "4) Qual classe, em todos os modelos treinados, obteve o maior acerto de 'Recall'?"
      ],
      "metadata": {
        "id": "Hd2dkYeRT8sc"
      }
    },
    {
      "cell_type": "code",
      "source": [
        "Resposta4 = \"RandomForestClassifier\" #@param {type:\"string\"}\n",
        "print(Resposta4)"
      ],
      "metadata": {
        "id": "T4huEyxVUhuj",
        "outputId": "701a0833-4e74-4e4c-de7d-dee14b1ec3b9",
        "colab": {
          "base_uri": "https://localhost:8080/"
        }
      },
      "execution_count": null,
      "outputs": [
        {
          "output_type": "stream",
          "name": "stdout",
          "text": [
            "RandomForestClassifier\n"
          ]
        }
      ]
    },
    {
      "cell_type": "markdown",
      "source": [
        "## Desenvolvimento"
      ],
      "metadata": {
        "id": "wEmbbGvUh2Ip"
      }
    },
    {
      "cell_type": "markdown",
      "source": [
        "A partir do sorteio abaixo, verifique quais 2 técnicas de aprendizado de máquina supervisionado classificador serão escolhidas para a atividade:"
      ],
      "metadata": {
        "id": "0JRRm2mbcnYS"
      }
    },
    {
      "cell_type": "code",
      "source": [
        "import random\n",
        "# fixa semente com matrícula definida na 1a célula\n",
        "random.seed(matricula)\n",
        "# monta nomes das técnicas\n",
        "tecnica_nomes = [c.__class__.__name__ for c in classificadores]\n",
        "# embaralha técnicas\n",
        "random.shuffle(tecnica_nomes)\n",
        "# exibe técnicas sorteadas\n",
        "for n in range(0,2):\n",
        "  print('Técnica',n+1,'=',tecnica_nomes[n])"
      ],
      "metadata": {
        "id": "3wxnHJFzeefe",
        "outputId": "b6438cdf-2d8c-4938-f939-4049f81bbf16",
        "colab": {
          "base_uri": "https://localhost:8080/"
        }
      },
      "execution_count": null,
      "outputs": [
        {
          "output_type": "stream",
          "name": "stdout",
          "text": [
            "Técnica 1 = QuadraticDiscriminantAnalysis\n",
            "Técnica 2 = GaussianProcessClassifier\n"
          ]
        }
      ]
    },
    {
      "cell_type": "markdown",
      "source": [
        "### Técnica 1"
      ],
      "metadata": {
        "id": "og7AdkutfMtC"
      }
    },
    {
      "cell_type": "markdown",
      "source": [
        "*30% da nota da atividade*\n",
        "\n",
        "Utilizando o [GridSearchCV](https://scikit-learn.org/stable/modules/generated/sklearn.model_selection.GridSearchCV.html) faça uma busca nos parâmetros da técnica para o melhor resultado da **menor** métrica *Recall* encontrada para cada classe.\n",
        "\n",
        "Lista de métricas disponíveis para o parâmetro \"scoring\" do GridSearchCV:"
      ],
      "metadata": {
        "id": "0L8razFMfcjZ"
      }
    },
    {
      "cell_type": "code",
      "source": [
        "from sklearn.metrics import SCORERS\n",
        "print('Métricas avaliadas:')\n",
        "list(SCORERS.keys())"
      ],
      "metadata": {
        "id": "LxlNqeGqyNOV",
        "outputId": "fb5f8b37-0bb6-4253-d1e5-76a7271e9fd6",
        "colab": {
          "base_uri": "https://localhost:8080/"
        }
      },
      "execution_count": null,
      "outputs": [
        {
          "output_type": "stream",
          "name": "stdout",
          "text": [
            "Métricas avaliadas:\n"
          ]
        },
        {
          "output_type": "execute_result",
          "data": {
            "text/plain": [
              "['explained_variance',\n",
              " 'r2',\n",
              " 'max_error',\n",
              " 'neg_median_absolute_error',\n",
              " 'neg_mean_absolute_error',\n",
              " 'neg_mean_absolute_percentage_error',\n",
              " 'neg_mean_squared_error',\n",
              " 'neg_mean_squared_log_error',\n",
              " 'neg_root_mean_squared_error',\n",
              " 'neg_mean_poisson_deviance',\n",
              " 'neg_mean_gamma_deviance',\n",
              " 'accuracy',\n",
              " 'top_k_accuracy',\n",
              " 'roc_auc',\n",
              " 'roc_auc_ovr',\n",
              " 'roc_auc_ovo',\n",
              " 'roc_auc_ovr_weighted',\n",
              " 'roc_auc_ovo_weighted',\n",
              " 'balanced_accuracy',\n",
              " 'average_precision',\n",
              " 'neg_log_loss',\n",
              " 'neg_brier_score',\n",
              " 'adjusted_rand_score',\n",
              " 'rand_score',\n",
              " 'homogeneity_score',\n",
              " 'completeness_score',\n",
              " 'v_measure_score',\n",
              " 'mutual_info_score',\n",
              " 'adjusted_mutual_info_score',\n",
              " 'normalized_mutual_info_score',\n",
              " 'fowlkes_mallows_score',\n",
              " 'precision',\n",
              " 'precision_macro',\n",
              " 'precision_micro',\n",
              " 'precision_samples',\n",
              " 'precision_weighted',\n",
              " 'recall',\n",
              " 'recall_macro',\n",
              " 'recall_micro',\n",
              " 'recall_samples',\n",
              " 'recall_weighted',\n",
              " 'f1',\n",
              " 'f1_macro',\n",
              " 'f1_micro',\n",
              " 'f1_samples',\n",
              " 'f1_weighted',\n",
              " 'jaccard',\n",
              " 'jaccard_macro',\n",
              " 'jaccard_micro',\n",
              " 'jaccard_samples',\n",
              " 'jaccard_weighted']"
            ]
          },
          "metadata": {},
          "execution_count": 9
        }
      ]
    },
    {
      "cell_type": "markdown",
      "source": [
        "Definições de ajuste no GridSearchCV:\n",
        "* a técnica escolhida é a 1a sorteada\n",
        "* no mínimo 3 parâmetros devem ser ajustados.\n",
        "* podem ser parâmetros numéricos ou discretos\n",
        "* todos os parâmetros devem ser discretizados para a grade de resultados\n",
        "* árvores devem ser restringidas com profundidade máxima de 6"
      ],
      "metadata": {
        "id": "x6g7lIBFyiXV"
      }
    },
    {
      "cell_type": "code",
      "source": [
        "from sklearn.model_selection import GridSearchCV\n",
        "# desativa avisos de execução\n",
        "import warnings\n",
        "warnings.filterwarnings(\"ignore\")\n",
        "\n",
        "# lista de parâmetros viáveis de ajuste buscado na técnica\n",
        "parametros = {\n",
        "    'hidden_layer_sizes':[(10,),(25,),(50,),(75,)],\n",
        "    'activation':['identity', 'logistic', 'tanh', 'relu'],\n",
        "    'solver': ['lbfgs', 'sgd', 'adam'],\n",
        "}\n",
        "\n",
        "# técnica a ser ajustada\n",
        "tec1 = MLPClassifier(random_state=42)\n",
        "# busca de parâmetros para um 5-Fold e métrica de pontuação 'Recall'\n",
        "busca = GridSearchCV(tec1, parametros, cv=5, scoring='recall_micro')\n",
        "# buscando no treinamento\n",
        "busca.fit(X,y)\n",
        "# 5 melhores resultados\n",
        "pd.DataFrame(data=busca.cv_results_).sort_values(by='rank_test_score').head()"
      ],
      "metadata": {
        "id": "Tw0bguzVfcBv",
        "outputId": "e778f5d6-c7a7-4d9a-f814-6d3606af4eb7",
        "colab": {
          "base_uri": "https://localhost:8080/",
          "height": 444
        }
      },
      "execution_count": null,
      "outputs": [
        {
          "output_type": "execute_result",
          "data": {
            "text/plain": [
              "    mean_fit_time  std_fit_time  mean_score_time  std_score_time  \\\n",
              "36       0.299318      0.085891         0.001963        0.001103   \n",
              "35       1.434025      0.476749         0.002287        0.000410   \n",
              "44       0.534749      0.014862         0.001207        0.000044   \n",
              "47       0.551392      0.132784         0.001423        0.000411   \n",
              "32       0.686662      0.008944         0.001458        0.000044   \n",
              "\n",
              "   param_activation param_hidden_layer_sizes param_solver  \\\n",
              "36             relu                    (10,)        lbfgs   \n",
              "35             tanh                    (75,)         adam   \n",
              "44             relu                    (50,)         adam   \n",
              "47             relu                    (75,)         adam   \n",
              "32             tanh                    (50,)         adam   \n",
              "\n",
              "                                               params  split0_test_score  \\\n",
              "36  {'activation': 'relu', 'hidden_layer_sizes': (...              0.785   \n",
              "35  {'activation': 'tanh', 'hidden_layer_sizes': (...              0.710   \n",
              "44  {'activation': 'relu', 'hidden_layer_sizes': (...              0.755   \n",
              "47  {'activation': 'relu', 'hidden_layer_sizes': (...              0.770   \n",
              "32  {'activation': 'tanh', 'hidden_layer_sizes': (...              0.715   \n",
              "\n",
              "    split1_test_score  split2_test_score  split3_test_score  \\\n",
              "36              0.780              0.700              0.725   \n",
              "35              0.790              0.710              0.785   \n",
              "44              0.795              0.725              0.730   \n",
              "47              0.805              0.725              0.730   \n",
              "32              0.795              0.715              0.750   \n",
              "\n",
              "    split4_test_score  mean_test_score  std_test_score  rank_test_score  \n",
              "36              0.790            0.756        0.036524                1  \n",
              "35              0.770            0.753        0.035721                2  \n",
              "44              0.750            0.751        0.024779                3  \n",
              "47              0.675            0.741        0.043977                4  \n",
              "32              0.725            0.740        0.030332                5  "
            ],
            "text/html": [
              "\n",
              "  <div id=\"df-a78b242a-e2bb-4b6e-823c-293d9eb61c55\">\n",
              "    <div class=\"colab-df-container\">\n",
              "      <div>\n",
              "<style scoped>\n",
              "    .dataframe tbody tr th:only-of-type {\n",
              "        vertical-align: middle;\n",
              "    }\n",
              "\n",
              "    .dataframe tbody tr th {\n",
              "        vertical-align: top;\n",
              "    }\n",
              "\n",
              "    .dataframe thead th {\n",
              "        text-align: right;\n",
              "    }\n",
              "</style>\n",
              "<table border=\"1\" class=\"dataframe\">\n",
              "  <thead>\n",
              "    <tr style=\"text-align: right;\">\n",
              "      <th></th>\n",
              "      <th>mean_fit_time</th>\n",
              "      <th>std_fit_time</th>\n",
              "      <th>mean_score_time</th>\n",
              "      <th>std_score_time</th>\n",
              "      <th>param_activation</th>\n",
              "      <th>param_hidden_layer_sizes</th>\n",
              "      <th>param_solver</th>\n",
              "      <th>params</th>\n",
              "      <th>split0_test_score</th>\n",
              "      <th>split1_test_score</th>\n",
              "      <th>split2_test_score</th>\n",
              "      <th>split3_test_score</th>\n",
              "      <th>split4_test_score</th>\n",
              "      <th>mean_test_score</th>\n",
              "      <th>std_test_score</th>\n",
              "      <th>rank_test_score</th>\n",
              "    </tr>\n",
              "  </thead>\n",
              "  <tbody>\n",
              "    <tr>\n",
              "      <th>36</th>\n",
              "      <td>0.299318</td>\n",
              "      <td>0.085891</td>\n",
              "      <td>0.001963</td>\n",
              "      <td>0.001103</td>\n",
              "      <td>relu</td>\n",
              "      <td>(10,)</td>\n",
              "      <td>lbfgs</td>\n",
              "      <td>{'activation': 'relu', 'hidden_layer_sizes': (...</td>\n",
              "      <td>0.785</td>\n",
              "      <td>0.780</td>\n",
              "      <td>0.700</td>\n",
              "      <td>0.725</td>\n",
              "      <td>0.790</td>\n",
              "      <td>0.756</td>\n",
              "      <td>0.036524</td>\n",
              "      <td>1</td>\n",
              "    </tr>\n",
              "    <tr>\n",
              "      <th>35</th>\n",
              "      <td>1.434025</td>\n",
              "      <td>0.476749</td>\n",
              "      <td>0.002287</td>\n",
              "      <td>0.000410</td>\n",
              "      <td>tanh</td>\n",
              "      <td>(75,)</td>\n",
              "      <td>adam</td>\n",
              "      <td>{'activation': 'tanh', 'hidden_layer_sizes': (...</td>\n",
              "      <td>0.710</td>\n",
              "      <td>0.790</td>\n",
              "      <td>0.710</td>\n",
              "      <td>0.785</td>\n",
              "      <td>0.770</td>\n",
              "      <td>0.753</td>\n",
              "      <td>0.035721</td>\n",
              "      <td>2</td>\n",
              "    </tr>\n",
              "    <tr>\n",
              "      <th>44</th>\n",
              "      <td>0.534749</td>\n",
              "      <td>0.014862</td>\n",
              "      <td>0.001207</td>\n",
              "      <td>0.000044</td>\n",
              "      <td>relu</td>\n",
              "      <td>(50,)</td>\n",
              "      <td>adam</td>\n",
              "      <td>{'activation': 'relu', 'hidden_layer_sizes': (...</td>\n",
              "      <td>0.755</td>\n",
              "      <td>0.795</td>\n",
              "      <td>0.725</td>\n",
              "      <td>0.730</td>\n",
              "      <td>0.750</td>\n",
              "      <td>0.751</td>\n",
              "      <td>0.024779</td>\n",
              "      <td>3</td>\n",
              "    </tr>\n",
              "    <tr>\n",
              "      <th>47</th>\n",
              "      <td>0.551392</td>\n",
              "      <td>0.132784</td>\n",
              "      <td>0.001423</td>\n",
              "      <td>0.000411</td>\n",
              "      <td>relu</td>\n",
              "      <td>(75,)</td>\n",
              "      <td>adam</td>\n",
              "      <td>{'activation': 'relu', 'hidden_layer_sizes': (...</td>\n",
              "      <td>0.770</td>\n",
              "      <td>0.805</td>\n",
              "      <td>0.725</td>\n",
              "      <td>0.730</td>\n",
              "      <td>0.675</td>\n",
              "      <td>0.741</td>\n",
              "      <td>0.043977</td>\n",
              "      <td>4</td>\n",
              "    </tr>\n",
              "    <tr>\n",
              "      <th>32</th>\n",
              "      <td>0.686662</td>\n",
              "      <td>0.008944</td>\n",
              "      <td>0.001458</td>\n",
              "      <td>0.000044</td>\n",
              "      <td>tanh</td>\n",
              "      <td>(50,)</td>\n",
              "      <td>adam</td>\n",
              "      <td>{'activation': 'tanh', 'hidden_layer_sizes': (...</td>\n",
              "      <td>0.715</td>\n",
              "      <td>0.795</td>\n",
              "      <td>0.715</td>\n",
              "      <td>0.750</td>\n",
              "      <td>0.725</td>\n",
              "      <td>0.740</td>\n",
              "      <td>0.030332</td>\n",
              "      <td>5</td>\n",
              "    </tr>\n",
              "  </tbody>\n",
              "</table>\n",
              "</div>\n",
              "      <button class=\"colab-df-convert\" onclick=\"convertToInteractive('df-a78b242a-e2bb-4b6e-823c-293d9eb61c55')\"\n",
              "              title=\"Convert this dataframe to an interactive table.\"\n",
              "              style=\"display:none;\">\n",
              "        \n",
              "  <svg xmlns=\"http://www.w3.org/2000/svg\" height=\"24px\"viewBox=\"0 0 24 24\"\n",
              "       width=\"24px\">\n",
              "    <path d=\"M0 0h24v24H0V0z\" fill=\"none\"/>\n",
              "    <path d=\"M18.56 5.44l.94 2.06.94-2.06 2.06-.94-2.06-.94-.94-2.06-.94 2.06-2.06.94zm-11 1L8.5 8.5l.94-2.06 2.06-.94-2.06-.94L8.5 2.5l-.94 2.06-2.06.94zm10 10l.94 2.06.94-2.06 2.06-.94-2.06-.94-.94-2.06-.94 2.06-2.06.94z\"/><path d=\"M17.41 7.96l-1.37-1.37c-.4-.4-.92-.59-1.43-.59-.52 0-1.04.2-1.43.59L10.3 9.45l-7.72 7.72c-.78.78-.78 2.05 0 2.83L4 21.41c.39.39.9.59 1.41.59.51 0 1.02-.2 1.41-.59l7.78-7.78 2.81-2.81c.8-.78.8-2.07 0-2.86zM5.41 20L4 18.59l7.72-7.72 1.47 1.35L5.41 20z\"/>\n",
              "  </svg>\n",
              "      </button>\n",
              "      \n",
              "  <style>\n",
              "    .colab-df-container {\n",
              "      display:flex;\n",
              "      flex-wrap:wrap;\n",
              "      gap: 12px;\n",
              "    }\n",
              "\n",
              "    .colab-df-convert {\n",
              "      background-color: #E8F0FE;\n",
              "      border: none;\n",
              "      border-radius: 50%;\n",
              "      cursor: pointer;\n",
              "      display: none;\n",
              "      fill: #1967D2;\n",
              "      height: 32px;\n",
              "      padding: 0 0 0 0;\n",
              "      width: 32px;\n",
              "    }\n",
              "\n",
              "    .colab-df-convert:hover {\n",
              "      background-color: #E2EBFA;\n",
              "      box-shadow: 0px 1px 2px rgba(60, 64, 67, 0.3), 0px 1px 3px 1px rgba(60, 64, 67, 0.15);\n",
              "      fill: #174EA6;\n",
              "    }\n",
              "\n",
              "    [theme=dark] .colab-df-convert {\n",
              "      background-color: #3B4455;\n",
              "      fill: #D2E3FC;\n",
              "    }\n",
              "\n",
              "    [theme=dark] .colab-df-convert:hover {\n",
              "      background-color: #434B5C;\n",
              "      box-shadow: 0px 1px 3px 1px rgba(0, 0, 0, 0.15);\n",
              "      filter: drop-shadow(0px 1px 2px rgba(0, 0, 0, 0.3));\n",
              "      fill: #FFFFFF;\n",
              "    }\n",
              "  </style>\n",
              "\n",
              "      <script>\n",
              "        const buttonEl =\n",
              "          document.querySelector('#df-a78b242a-e2bb-4b6e-823c-293d9eb61c55 button.colab-df-convert');\n",
              "        buttonEl.style.display =\n",
              "          google.colab.kernel.accessAllowed ? 'block' : 'none';\n",
              "\n",
              "        async function convertToInteractive(key) {\n",
              "          const element = document.querySelector('#df-a78b242a-e2bb-4b6e-823c-293d9eb61c55');\n",
              "          const dataTable =\n",
              "            await google.colab.kernel.invokeFunction('convertToInteractive',\n",
              "                                                     [key], {});\n",
              "          if (!dataTable) return;\n",
              "\n",
              "          const docLinkHtml = 'Like what you see? Visit the ' +\n",
              "            '<a target=\"_blank\" href=https://colab.research.google.com/notebooks/data_table.ipynb>data table notebook</a>'\n",
              "            + ' to learn more about interactive tables.';\n",
              "          element.innerHTML = '';\n",
              "          dataTable['output_type'] = 'display_data';\n",
              "          await google.colab.output.renderOutput(dataTable, element);\n",
              "          const docLink = document.createElement('div');\n",
              "          docLink.innerHTML = docLinkHtml;\n",
              "          element.appendChild(docLink);\n",
              "        }\n",
              "      </script>\n",
              "    </div>\n",
              "  </div>\n",
              "  "
            ]
          },
          "metadata": {},
          "execution_count": 10
        }
      ]
    },
    {
      "cell_type": "markdown",
      "source": [
        "Relatório de classificação e matriz de confusão para o melhor ajuste:"
      ],
      "metadata": {
        "id": "WXQ1wMsP3kt0"
      }
    },
    {
      "cell_type": "code",
      "source": [
        "print('Melhores parâmetros:')\n",
        "print('  ',busca.best_estimator_,'\\n')\n",
        "print('Relatório de Classificação:')\n",
        "y_pred = busca.best_estimator_.predict(X)\n",
        "print(classification_report(y,y_pred),'\\n')\n",
        "print('Matriz de Confusão:')\n",
        "print(confusion_matrix(y,y_pred))"
      ],
      "metadata": {
        "id": "a73WsOCS3U4u",
        "outputId": "8ffaf01a-46ab-4f36-836f-d4e63c7e092c",
        "colab": {
          "base_uri": "https://localhost:8080/"
        }
      },
      "execution_count": null,
      "outputs": [
        {
          "output_type": "stream",
          "name": "stdout",
          "text": [
            "Melhores parâmetros:\n",
            "   MLPClassifier(hidden_layer_sizes=(10,), random_state=42, solver='lbfgs') \n",
            "\n",
            "Relatório de Classificação:\n",
            "              precision    recall  f1-score   support\n",
            "\n",
            "           0       0.84      0.82      0.83       333\n",
            "           1       0.83      0.84      0.83       336\n",
            "           2       0.79      0.79      0.79       331\n",
            "\n",
            "    accuracy                           0.82      1000\n",
            "   macro avg       0.82      0.82      0.82      1000\n",
            "weighted avg       0.82      0.82      0.82      1000\n",
            " \n",
            "\n",
            "Matriz de Confusão:\n",
            "[[274  23  36]\n",
            " [ 21 282  33]\n",
            " [ 33  35 263]]\n"
          ]
        }
      ]
    },
    {
      "cell_type": "markdown",
      "source": [
        "### Técnica 2"
      ],
      "metadata": {
        "id": "zlW06oBF5YkL"
      }
    },
    {
      "cell_type": "markdown",
      "source": [
        "*30% da nota da atividade*\n",
        "\n",
        "Utilizando o [RandomizedSearchCV](https://scikit-learn.org/stable/modules/generated/sklearn.model_selection.RandomizedSearchCV.html) faça uma busca nos parâmetros da técnica para o melhor resultado da menor métrica F1 encontrada para cada classe.\n",
        "\n",
        "Neste buscador é necessário definir uma distribuição nas variáveis inteiras seguindo as seguintes [funções de distribuição contíonuas](https://docs.scipy.org/doc/scipy/reference/stats.html#continuous-distributions)."
      ],
      "metadata": {
        "id": "seOx0jc35bPD"
      }
    },
    {
      "cell_type": "markdown",
      "source": [
        "Definições de ajuste no RandomizedSearchCV:\n",
        "* a técnica escolhida é a 2a sorteada\n",
        "* no mínimo 3 parâmetros devem ser ajustados.\n",
        "* podem ser parâmetros numéricos ou discretos\n",
        "* todos os parâmetros numéricos devem ser ligados a uma distribuição\n",
        "* árvores devem ser restringidas com profundidade máxima de 6"
      ],
      "metadata": {
        "id": "FC_Kv3aj5_72"
      }
    },
    {
      "cell_type": "code",
      "source": [
        "from sklearn.model_selection import RandomizedSearchCV\n",
        "from scipy.stats import uniform,norm\n",
        "# desativa avisos de execução\n",
        "import warnings\n",
        "warnings.filterwarnings(\"ignore\")\n",
        "\n",
        "# lista de parâmetros viáveis de ajuste buscado na técnica\n",
        "parametros = {\n",
        "    'n_estimators':[50,100,150,200],\n",
        "    'criterion':['gini', 'entropy'],\n",
        "    'max_features': ['auto', 'sqrt', 'log2'],\n",
        "}\n",
        "\n",
        "# técnica a ser ajustada\n",
        "tec2 = RandomForestClassifier(max_depth=6,random_state=42)\n",
        "# busca de parâmetros para um 5-Fold e métrica de pontuação 'Recall'\n",
        "busca = RandomizedSearchCV(tec2, parametros, cv=5, scoring='f1_micro')\n",
        "# buscando no treinamento\n",
        "busca.fit(X,y)\n",
        "# 5 melhores resultados\n",
        "pd.DataFrame(data=busca.cv_results_).sort_values(by='rank_test_score').head()"
      ],
      "metadata": {
        "id": "nUo5sOZN5a3R"
      },
      "execution_count": null,
      "outputs": []
    },
    {
      "cell_type": "markdown",
      "source": [
        "Relatório de classificação e matriz de confusão para o melhor ajuste:"
      ],
      "metadata": {
        "id": "jtEVCER_JHHN"
      }
    },
    {
      "cell_type": "code",
      "source": [
        "print('Melhores parâmetros:')\n",
        "print('  ',busca.best_estimator_,'\\n')\n",
        "print('Relatório de Classificação:')\n",
        "y_pred = busca.best_estimator_.predict(X)\n",
        "print(classification_report(y,y_pred),'\\n')\n",
        "print('Matriz de Confusão:')\n",
        "print(confusion_matrix(y,y_pred))"
      ],
      "metadata": {
        "id": "QZ2QvDNLJIOl"
      },
      "execution_count": null,
      "outputs": []
    }
  ]
}