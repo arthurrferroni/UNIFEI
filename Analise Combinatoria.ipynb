{
  "nbformat": 4,
  "nbformat_minor": 0,
  "metadata": {
    "colab": {
      "name": "Copy of ECOM01_09_Combinatoria.ipynb",
      "provenance": [],
      "collapsed_sections": [],
      "include_colab_link": true
    },
    "kernelspec": {
      "name": "python3",
      "display_name": "Python 3"
    },
    "language_info": {
      "name": "python"
    }
  },
  "cells": [
    {
      "cell_type": "markdown",
      "metadata": {
        "id": "view-in-github",
        "colab_type": "text"
      },
      "source": [
        "<a href=\"https://colab.research.google.com/github/arthurrferroni/UNIFEI/blob/main/Analise%20Combinatoria.ipynb\" target=\"_parent\"><img src=\"https://colab.research.google.com/assets/colab-badge.svg\" alt=\"Open In Colab\"/></a>"
      ]
    },
    {
      "cell_type": "markdown",
      "source": [
        "# Análise Combinatória"
      ],
      "metadata": {
        "id": "u_QIXZxKDIB_"
      }
    },
    {
      "cell_type": "markdown",
      "source": [
        "## Funções"
      ],
      "metadata": {
        "id": "caNg7Ny6Ik2v"
      }
    },
    {
      "cell_type": "code",
      "source": [
        "import math\n",
        "\n",
        "def comb(n,k):\n",
        "  return math.factorial(n) // (math.factorial(k) * math.factorial(n-k))\n",
        "\n",
        "def perm(n,r):\n",
        "  return math.factorial(n) // math.factorial(n-r)"
      ],
      "metadata": {
        "id": "SjEslFo-Ikb0"
      },
      "execution_count": null,
      "outputs": []
    },
    {
      "cell_type": "markdown",
      "source": [
        "//(divisão de divisão) para retornar inteiros"
      ],
      "metadata": {
        "id": "lzJ4P0DGjgoN"
      }
    },
    {
      "cell_type": "markdown",
      "source": [
        "## Exercícios"
      ],
      "metadata": {
        "id": "9tC0RhNsKMqY"
      }
    },
    {
      "cell_type": "markdown",
      "source": [
        "Quantos arranjos com todas as letras de palavra MATH?"
      ],
      "metadata": {
        "id": "LO7eUIG-I-Ax"
      }
    },
    {
      "cell_type": "code",
      "source": [
        "# M A T H \n",
        "# arranhos com 4 espaços e 4 letras diferentes\n",
        "perm(4,4)"
      ],
      "metadata": {
        "id": "Mefha6rrJJuq",
        "outputId": "5a3bc904-4f98-4845-ad2c-9f7f873160f5",
        "colab": {
          "base_uri": "https://localhost:8080/"
        }
      },
      "execution_count": null,
      "outputs": [
        {
          "output_type": "execute_result",
          "data": {
            "text/plain": [
              "24"
            ]
          },
          "metadata": {},
          "execution_count": 2
        }
      ]
    },
    {
      "cell_type": "markdown",
      "source": [
        "Quantos arranjos de 2 com as letras de palavra MATH?"
      ],
      "metadata": {
        "id": "aK8oYQYRJ4B8"
      }
    },
    {
      "cell_type": "code",
      "source": [
        "perm(4,2)"
      ],
      "metadata": {
        "id": "GZ2H0axUKBZp",
        "outputId": "dc4440af-51d6-41f5-d776-50922dd1efc4",
        "colab": {
          "base_uri": "https://localhost:8080/"
        }
      },
      "execution_count": null,
      "outputs": [
        {
          "output_type": "execute_result",
          "data": {
            "text/plain": [
              "12"
            ]
          },
          "metadata": {},
          "execution_count": 3
        }
      ]
    },
    {
      "cell_type": "markdown",
      "source": [
        "8 corredores estão em uma disputa. Quantas formas as medalhas de ouro, prata ou bronze podem ser entregues?"
      ],
      "metadata": {
        "id": "j7m_Jy5PKJiG"
      }
    },
    {
      "cell_type": "code",
      "source": [
        "perm(8,3)"
      ],
      "metadata": {
        "id": "LI1TvoGxKl6D",
        "outputId": "effdd288-1e53-48b8-f6c7-6b109a7ed4d8",
        "colab": {
          "base_uri": "https://localhost:8080/"
        }
      },
      "execution_count": null,
      "outputs": [
        {
          "output_type": "execute_result",
          "data": {
            "text/plain": [
              "336"
            ]
          },
          "metadata": {},
          "execution_count": 4
        }
      ]
    },
    {
      "cell_type": "markdown",
      "source": [
        "Quantas combinações entre 6 homens e 4 mulheres podem se formar montando uma fila?"
      ],
      "metadata": {
        "id": "p50Gj2yfDKpl"
      }
    },
    {
      "cell_type": "code",
      "source": [
        "math.factorial(10)"
      ],
      "metadata": {
        "id": "QtzrPjN4DHZ_",
        "outputId": "fad257ad-743c-43fc-a2a6-d84a77278eb8",
        "colab": {
          "base_uri": "https://localhost:8080/"
        }
      },
      "execution_count": null,
      "outputs": [
        {
          "output_type": "execute_result",
          "data": {
            "text/plain": [
              "3628800"
            ]
          },
          "metadata": {},
          "execution_count": 5
        }
      ]
    },
    {
      "cell_type": "markdown",
      "source": [
        "Dessa combinação, quantas não tem 2 mulheres lado a lado?"
      ],
      "metadata": {
        "id": "IO2cP7qxDdRu"
      }
    },
    {
      "cell_type": "code",
      "source": [
        "\n",
        "\n",
        "# _H_H_H_H_H_H_  tenho 7 _\n",
        "# nH! * comb(7,nM) * nM\n",
        "math.factorial(6) * comb(7,4) * math.factorial(4)"
      ],
      "metadata": {
        "id": "SO9MR9qNDc0v",
        "outputId": "bf9d5696-62c6-42fb-e457-fdc21a1df5ff",
        "colab": {
          "base_uri": "https://localhost:8080/"
        }
      },
      "execution_count": null,
      "outputs": [
        {
          "output_type": "execute_result",
          "data": {
            "text/plain": [
              "604800"
            ]
          },
          "metadata": {},
          "execution_count": 6
        }
      ]
    },
    {
      "cell_type": "markdown",
      "source": [
        "Quantas combinações não tem 2 homens lado a lado?"
      ],
      "metadata": {
        "id": "WuSkN_lPG2f3"
      }
    },
    {
      "cell_type": "code",
      "source": [
        "# _M_M_M_M_ tenho 5 _ portanto não é possivel ter espaçado 2 homens"
      ],
      "metadata": {
        "id": "MbzJYSNIHApk"
      },
      "execution_count": null,
      "outputs": []
    },
    {
      "cell_type": "markdown",
      "source": [
        "Quantas strings binárias tem 5 zeros e 14 uns onde cada zero precisa ser seguido imediatamente por 2 uns?"
      ],
      "metadata": {
        "id": "ieP9vkshHX99"
      }
    },
    {
      "cell_type": "code",
      "source": [
        "# 011 vezes 5, sobrando 4 uns\n",
        "# itens! / (unsSobra! * zerosUnsUns!)\n",
        "\n",
        "math.factorial(9) // (math.factorial(4) * math.factorial(5))"
      ],
      "metadata": {
        "id": "pw6mAb7WHXmY",
        "outputId": "6b1088c5-73e1-4c25-8f90-020e1345a6d9",
        "colab": {
          "base_uri": "https://localhost:8080/"
        }
      },
      "execution_count": null,
      "outputs": [
        {
          "output_type": "execute_result",
          "data": {
            "text/plain": [
              "126"
            ]
          },
          "metadata": {},
          "execution_count": 8
        }
      ]
    },
    {
      "cell_type": "markdown",
      "source": [
        "# Itertools - Ferramentas de Iteração"
      ],
      "metadata": {
        "id": "H--XHky986ue"
      }
    },
    {
      "cell_type": "markdown",
      "source": [
        "https://docs.python.org/3/library/itertools.html"
      ],
      "metadata": {
        "id": "dC0iJgvR8-pZ"
      }
    },
    {
      "cell_type": "markdown",
      "source": [
        "## Combinação"
      ],
      "metadata": {
        "id": "YyEOrZZ89CEp"
      }
    },
    {
      "cell_type": "code",
      "source": [
        "import itertools as it\n",
        "\n",
        "list(it.combinations_with_replacement(list('UNIFEI'),2))"
      ],
      "metadata": {
        "id": "G6-_BchaOYCP",
        "outputId": "0657d573-2c22-4e00-bf4f-997aa88b251f",
        "colab": {
          "base_uri": "https://localhost:8080/"
        }
      },
      "execution_count": null,
      "outputs": [
        {
          "output_type": "execute_result",
          "data": {
            "text/plain": [
              "[('U', 'U'),\n",
              " ('U', 'N'),\n",
              " ('U', 'I'),\n",
              " ('U', 'F'),\n",
              " ('U', 'E'),\n",
              " ('U', 'I'),\n",
              " ('N', 'N'),\n",
              " ('N', 'I'),\n",
              " ('N', 'F'),\n",
              " ('N', 'E'),\n",
              " ('N', 'I'),\n",
              " ('I', 'I'),\n",
              " ('I', 'F'),\n",
              " ('I', 'E'),\n",
              " ('I', 'I'),\n",
              " ('F', 'F'),\n",
              " ('F', 'E'),\n",
              " ('F', 'I'),\n",
              " ('E', 'E'),\n",
              " ('E', 'I'),\n",
              " ('I', 'I')]"
            ]
          },
          "metadata": {},
          "execution_count": 9
        }
      ]
    },
    {
      "cell_type": "code",
      "source": [
        "list(it.combinations([5,6,7],1))"
      ],
      "metadata": {
        "id": "NvWZkqQjPCOe",
        "outputId": "24d31005-e862-4140-a2a0-a6d687543e58",
        "colab": {
          "base_uri": "https://localhost:8080/"
        }
      },
      "execution_count": null,
      "outputs": [
        {
          "output_type": "execute_result",
          "data": {
            "text/plain": [
              "[(5,), (6,), (7,)]"
            ]
          },
          "metadata": {},
          "execution_count": 10
        }
      ]
    },
    {
      "cell_type": "code",
      "source": [
        "list(it.combinations([5,6,7],2))"
      ],
      "metadata": {
        "id": "CUBZ8OqjCf-X",
        "outputId": "d9edd0a4-5396-4d98-f914-df34e29409b2",
        "colab": {
          "base_uri": "https://localhost:8080/"
        }
      },
      "execution_count": null,
      "outputs": [
        {
          "output_type": "execute_result",
          "data": {
            "text/plain": [
              "[(5, 6), (5, 7), (6, 7)]"
            ]
          },
          "metadata": {},
          "execution_count": 11
        }
      ]
    },
    {
      "cell_type": "markdown",
      "source": [
        "## Permutação"
      ],
      "metadata": {
        "id": "lnENtsHCHr_7"
      }
    },
    {
      "cell_type": "code",
      "execution_count": null,
      "metadata": {
        "id": "E5_iFLT5GyAS",
        "outputId": "ab4fbde3-9f6f-4685-f2e2-e980b5e51404",
        "colab": {
          "base_uri": "https://localhost:8080/"
        }
      },
      "outputs": [
        {
          "output_type": "execute_result",
          "data": {
            "text/plain": [
              "[(1, 2, 3, 4),\n",
              " (1, 2, 4, 3),\n",
              " (1, 3, 2, 4),\n",
              " (1, 3, 4, 2),\n",
              " (1, 4, 2, 3),\n",
              " (1, 4, 3, 2),\n",
              " (2, 1, 3, 4),\n",
              " (2, 1, 4, 3),\n",
              " (2, 3, 1, 4),\n",
              " (2, 3, 4, 1),\n",
              " (2, 4, 1, 3),\n",
              " (2, 4, 3, 1),\n",
              " (3, 1, 2, 4),\n",
              " (3, 1, 4, 2),\n",
              " (3, 2, 1, 4),\n",
              " (3, 2, 4, 1),\n",
              " (3, 4, 1, 2),\n",
              " (3, 4, 2, 1),\n",
              " (4, 1, 2, 3),\n",
              " (4, 1, 3, 2),\n",
              " (4, 2, 1, 3),\n",
              " (4, 2, 3, 1),\n",
              " (4, 3, 1, 2),\n",
              " (4, 3, 2, 1)]"
            ]
          },
          "metadata": {},
          "execution_count": 12
        }
      ],
      "source": [
        "A = [1, 2, 3, 4]\n",
        "list(it.permutations(A))"
      ]
    },
    {
      "cell_type": "code",
      "source": [
        "list(it.permutations(A,2))"
      ],
      "metadata": {
        "id": "Ze_-gsuTJHdR",
        "outputId": "abe93cb3-4884-4779-82ff-d81c6e507844",
        "colab": {
          "base_uri": "https://localhost:8080/"
        }
      },
      "execution_count": null,
      "outputs": [
        {
          "output_type": "execute_result",
          "data": {
            "text/plain": [
              "[(1, 2),\n",
              " (1, 3),\n",
              " (1, 4),\n",
              " (2, 1),\n",
              " (2, 3),\n",
              " (2, 4),\n",
              " (3, 1),\n",
              " (3, 2),\n",
              " (3, 4),\n",
              " (4, 1),\n",
              " (4, 2),\n",
              " (4, 3)]"
            ]
          },
          "metadata": {},
          "execution_count": 13
        }
      ]
    },
    {
      "cell_type": "code",
      "source": [
        "list(it.permutations(A,3))"
      ],
      "metadata": {
        "id": "7pXr5WufNhcq",
        "outputId": "8be9eed1-77af-4c74-bb0a-a9e120aeb5ae",
        "colab": {
          "base_uri": "https://localhost:8080/"
        }
      },
      "execution_count": null,
      "outputs": [
        {
          "output_type": "execute_result",
          "data": {
            "text/plain": [
              "[(1, 2, 3),\n",
              " (1, 2, 4),\n",
              " (1, 3, 2),\n",
              " (1, 3, 4),\n",
              " (1, 4, 2),\n",
              " (1, 4, 3),\n",
              " (2, 1, 3),\n",
              " (2, 1, 4),\n",
              " (2, 3, 1),\n",
              " (2, 3, 4),\n",
              " (2, 4, 1),\n",
              " (2, 4, 3),\n",
              " (3, 1, 2),\n",
              " (3, 1, 4),\n",
              " (3, 2, 1),\n",
              " (3, 2, 4),\n",
              " (3, 4, 1),\n",
              " (3, 4, 2),\n",
              " (4, 1, 2),\n",
              " (4, 1, 3),\n",
              " (4, 2, 1),\n",
              " (4, 2, 3),\n",
              " (4, 3, 1),\n",
              " (4, 3, 2)]"
            ]
          },
          "metadata": {},
          "execution_count": 14
        }
      ]
    },
    {
      "cell_type": "markdown",
      "source": [
        "# Criptografia"
      ],
      "metadata": {
        "id": "BwT3pDO4LH9x"
      }
    },
    {
      "cell_type": "markdown",
      "source": [
        "## Cifra de César"
      ],
      "metadata": {
        "id": "B0ThVmDuwTL3"
      }
    },
    {
      "cell_type": "markdown",
      "source": [
        "<img src=\"https://media.geeksforgeeks.org/wp-content/uploads/ceaserCipher.png\">"
      ],
      "metadata": {
        "id": "mVYYrvuhwkvw"
      }
    },
    {
      "cell_type": "code",
      "source": [
        "def Cesar(texto, deslocar):  \n",
        "  cifrado = ''\n",
        "  for i in range(len(texto)):  \n",
        "    caracter = texto[i]  \n",
        "    if (caracter.isupper()): # maiusculos  \n",
        "      cifrado += chr((ord(caracter) + deslocar - 65) % 26 + 65)  \n",
        "    else:  #minusculos\n",
        "      cifrado += chr((ord(caracter) + deslocar - 97) % 26 + 97)  \n",
        "  return cifrado  \n",
        "\n",
        "cf = Cesar('UniversidadeFederaldeItajuba',4)\n",
        "cf"
      ],
      "metadata": {
        "id": "CeboFPsrMBgx",
        "outputId": "9c6cfb2c-e4da-438a-af43-26f8768606a8",
        "colab": {
          "base_uri": "https://localhost:8080/",
          "height": 36
        }
      },
      "execution_count": null,
      "outputs": [
        {
          "output_type": "execute_result",
          "data": {
            "text/plain": [
              "'YrmzivwmhehiJihivephiMxenyfe'"
            ],
            "application/vnd.google.colaboratory.intrinsic+json": {
              "type": "string"
            }
          },
          "metadata": {},
          "execution_count": 15
        }
      ]
    },
    {
      "cell_type": "code",
      "source": [
        "Cesar(cf,-4)"
      ],
      "metadata": {
        "id": "7HhVXH5bvIFd",
        "outputId": "4adad803-d53e-4e2e-b7dc-4f05c0234279",
        "colab": {
          "base_uri": "https://localhost:8080/",
          "height": 36
        }
      },
      "execution_count": null,
      "outputs": [
        {
          "output_type": "execute_result",
          "data": {
            "text/plain": [
              "'UniversidadeFederaldeItajuba'"
            ],
            "application/vnd.google.colaboratory.intrinsic+json": {
              "type": "string"
            }
          },
          "metadata": {},
          "execution_count": 16
        }
      ]
    },
    {
      "cell_type": "markdown",
      "source": [
        "## Cifra de Colina"
      ],
      "metadata": {
        "id": "X6NgeTU2zh9H"
      }
    },
    {
      "cell_type": "markdown",
      "source": [
        "`[CHAVE] [MENSAGEM] = [CIFRADO] % 26`"
      ],
      "metadata": {
        "id": "1jYd9dVq2uq8"
      }
    },
    {
      "cell_type": "markdown",
      "source": [
        "<img src=\"https://media.geeksforgeeks.org/wp-content/uploads/img6-2.jpg\">"
      ],
      "metadata": {
        "id": "8Ouhk5MR2nkZ"
      }
    },
    {
      "cell_type": "code",
      "source": [
        "def Colina(texto, chave):\n",
        "    # matriz de chave\n",
        "    mCH = [[0] * 3 for i in range(3)]\n",
        "    k=0\n",
        "    for a in range(3):\n",
        "      for b in range(3):\n",
        "        mCH[a][b] = ord(chave[k]) % 65\n",
        "        k +=1\n",
        "    # vetor de mensagem\n",
        "    vMsm = [[0] for i in range(3)]\n",
        "    for i in range(3):\n",
        "        vMsm[i][0] = ord(texto[i]) % 65\n",
        "\n",
        "    # cifrando mensagem\n",
        "    mCifra = [[0] for i in range(3)]\n",
        "    for i in range(3):\n",
        "      for j in range(1):\n",
        "        mCifra[i][j] = 0\n",
        "        for x in range(3):\n",
        "          mCifra[i][j] += (mCH[i][x] * vMsm[x][j])\n",
        "\n",
        "        mCifra[i][j] = mCifra[i][j] % 26\n",
        "    # texto encriptado\n",
        "    TextoEncr = []\n",
        "    for i in range(3):\n",
        "        TextoEncr.append(chr(mCifra[i][0] + 65))\n",
        "    return ''.join(TextoEncr)\n",
        "\n",
        "cf = Colina('ECA',chave='UNIFEIJBA')\n",
        "cf"
      ],
      "metadata": {
        "id": "P1CaQQfszn5Z",
        "outputId": "425df827-1081-4049-aff9-239149c94678",
        "colab": {
          "base_uri": "https://localhost:8080/",
          "height": 36
        }
      },
      "execution_count": null,
      "outputs": [
        {
          "output_type": "execute_result",
          "data": {
            "text/plain": [
              "'CCM'"
            ],
            "application/vnd.google.colaboratory.intrinsic+json": {
              "type": "string"
            }
          },
          "metadata": {},
          "execution_count": 17
        }
      ]
    },
    {
      "cell_type": "markdown",
      "source": [
        "<img src=\"https://media.geeksforgeeks.org/wp-content/uploads/img9-2.jpg\">"
      ],
      "metadata": {
        "id": "uXV2-78r23_q"
      }
    },
    {
      "cell_type": "markdown",
      "source": [
        "## Cifra Vigenère "
      ],
      "metadata": {
        "id": "8N-JhIJJ3TvY"
      }
    },
    {
      "cell_type": "markdown",
      "source": [
        "<img src=\"https://media.geeksforgeeks.org/wp-content/cdn-uploads/Vigen%C3%A8re_square_shading.png\">"
      ],
      "metadata": {
        "id": "uKgoz1gH3YYh"
      }
    },
    {
      "cell_type": "code",
      "source": [
        "def gerarChave(string, key):\n",
        "    key = list(key)\n",
        "    if len(string) == len(key):\n",
        "        return(key)\n",
        "    else:\n",
        "        for i in range(len(string) - len(key)):\n",
        "            key.append(key[i % len(key)])\n",
        "    return ''.join(key)\n",
        "     \n",
        "def cifrarTexto(string, key):\n",
        "    cipher_text = []\n",
        "    for i in range(len(string)):\n",
        "        x = (ord(string[i]) + ord(key[i])) % 26\n",
        "        x += ord('A')\n",
        "        cipher_text.append(chr(x))\n",
        "    return ''.join(cipher_text)\n",
        "     \n",
        "def obterTexto(cipher_text, key):\n",
        "    orig_text = []\n",
        "    for i in range(len(cipher_text)):\n",
        "        x = (ord(cipher_text[i]) - ord(key[i]) + 26) % 26\n",
        "        x += ord('A')\n",
        "        orig_text.append(chr(x))\n",
        "    return ''.join(orig_text)\n",
        "\n",
        "texto = 'CONTROLEAUTOMACAO'\n",
        "chave = 'UNIFEI'\n",
        "\n",
        "ch = gerarChave(texto, chave)\n",
        "print('ch =',ch,'\\n')\n",
        "\n",
        "cifra = cifrarTexto(texto, ch)\n",
        "print('cifra =',cifra,'\\n')\n",
        "\n",
        "origem = obterTexto(cifra, ch)\n",
        "print('origem =',origem)"
      ],
      "metadata": {
        "id": "XuhNvqnI3hCj",
        "outputId": "20d55ec9-d868-47a9-ce16-6f182b5ccf0d",
        "colab": {
          "base_uri": "https://localhost:8080/"
        }
      },
      "execution_count": null,
      "outputs": [
        {
          "output_type": "stream",
          "name": "stdout",
          "text": [
            "ch = UNIFEIUNIFEIUNIFE \n",
            "\n",
            "cifra = WBVYVWFRIZXWGNKFS \n",
            "\n",
            "origem = CONTROLEAUTOMACAO\n"
          ]
        }
      ]
    },
    {
      "cell_type": "markdown",
      "source": [
        "# Criptografia Comercial"
      ],
      "metadata": {
        "id": "W8dW9NDb5ejx"
      }
    },
    {
      "cell_type": "markdown",
      "source": [
        "## HASH"
      ],
      "metadata": {
        "id": "NH4eioAO6g7P"
      }
    },
    {
      "cell_type": "code",
      "source": [
        "import hashlib\n",
        "\n",
        "mensagens = [\n",
        "             'Universidade Federal de Itajubá',\n",
        "             'Universidade Federal de Itajuba',\n",
        "             'Universidade Federal de itajubá',\n",
        "             'Universidade federal de itajubá',\n",
        "             'universidade Federal de itajubá',\n",
        "             ]\n",
        "\n",
        "mensagens"
      ],
      "metadata": {
        "id": "pcq3MI8P6lJQ",
        "outputId": "693514c1-849f-41ab-9ca8-751f0a9ad2ac",
        "colab": {
          "base_uri": "https://localhost:8080/"
        }
      },
      "execution_count": null,
      "outputs": [
        {
          "output_type": "execute_result",
          "data": {
            "text/plain": [
              "['Universidade Federal de Itajubá',\n",
              " 'Universidade Federal de Itajuba',\n",
              " 'Universidade Federal de itajubá',\n",
              " 'Universidade federal de itajubá',\n",
              " 'universidade Federal de itajubá']"
            ]
          },
          "metadata": {},
          "execution_count": 19
        }
      ]
    },
    {
      "cell_type": "code",
      "source": [
        "for m in mensagens:\n",
        "  print('\"{0}\" => {1}'.format(m, hashlib.md5(m.encode()).hexdigest()))"
      ],
      "metadata": {
        "id": "NLqeXdjO9THb",
        "outputId": "aa26096d-3660-43f7-a1d3-0396f22eb79a",
        "colab": {
          "base_uri": "https://localhost:8080/"
        }
      },
      "execution_count": null,
      "outputs": [
        {
          "output_type": "stream",
          "name": "stdout",
          "text": [
            "\"Universidade Federal de Itajubá\" => dd456a8c623d35228287aa0423eb444f\n",
            "\"Universidade Federal de Itajuba\" => b15576f6fe1d964edeb05821856dc8ad\n",
            "\"Universidade Federal de itajubá\" => 6cf4c7c7b608801c8a0efd370e30f59e\n",
            "\"Universidade federal de itajubá\" => a9d128fd40c532c2dbe77f814e99c902\n",
            "\"universidade Federal de itajubá\" => b7d4ee561111cdb5e193f5d28ece5329\n"
          ]
        }
      ]
    },
    {
      "cell_type": "markdown",
      "source": [
        "https://md5.gromweb.com/"
      ],
      "metadata": {
        "id": "P5ViHTjr9bZH"
      }
    },
    {
      "cell_type": "code",
      "source": [
        "for m in mensagens:\n",
        "  print('\"{0}\" => {1}'.format(m, hashlib.sha1(m.encode()).hexdigest()))"
      ],
      "metadata": {
        "id": "JuHcSbvD9P7e",
        "outputId": "606721ac-938e-4a92-d46e-1fe7753d5af4",
        "colab": {
          "base_uri": "https://localhost:8080/"
        }
      },
      "execution_count": null,
      "outputs": [
        {
          "output_type": "stream",
          "name": "stdout",
          "text": [
            "\"Universidade Federal de Itajubá\" => a405c2d40b602741705a7c6ebdee4f5a6cef03f3\n",
            "\"Universidade Federal de Itajuba\" => 5733525abe55bef2226044969bedf35df6f176f4\n",
            "\"Universidade Federal de itajubá\" => 4b452392a752a78729113c67f3668a5b58229ba7\n",
            "\"Universidade federal de itajubá\" => e80594efa405ade28c78eecc8bb1cc2b35cf2478\n",
            "\"universidade Federal de itajubá\" => 69fba4cdc70fecfff33fde44d6f8c234429a1f9e\n"
          ]
        }
      ]
    },
    {
      "cell_type": "code",
      "source": [
        "for m in mensagens:\n",
        "  print('\"{0}\" => {1}'.format(m, hashlib.sha224(m.encode()).hexdigest()))"
      ],
      "metadata": {
        "id": "T8FD15Wu8R-M",
        "outputId": "0ac55514-a5d4-4cb3-8c50-f097c746dce1",
        "colab": {
          "base_uri": "https://localhost:8080/"
        }
      },
      "execution_count": null,
      "outputs": [
        {
          "output_type": "stream",
          "name": "stdout",
          "text": [
            "\"Universidade Federal de Itajubá\" => a65d695ba5e46f030b77011fcdf0cf417e0f39c20860d7ce7776635d\n",
            "\"Universidade Federal de Itajuba\" => ec0d0c63bea790f8fa8480bd7be2666d01b58783ce3d4a14a5ae71cb\n",
            "\"Universidade Federal de itajubá\" => 1f9f65bb9ca66e1e9c76f3aa2aa5fb3e7d9e24cf1874833fdb8e5642\n",
            "\"Universidade federal de itajubá\" => 5ddb4e0f64f95c1fd2b600bc6796a380428320d69cb1f06bf56c01c1\n",
            "\"universidade Federal de itajubá\" => 5ce548c5a4434462626bc8647d1d8dc11715d15b2074f6959485e92e\n"
          ]
        }
      ]
    },
    {
      "cell_type": "code",
      "source": [
        "for m in mensagens:\n",
        "  print('\"{0}\" => {1}'.format(m, hashlib.sha256(m.encode()).hexdigest()))"
      ],
      "metadata": {
        "id": "YPakAFz-8WYp",
        "outputId": "27ba2a89-1d1c-46fb-a350-bef198ce26cc",
        "colab": {
          "base_uri": "https://localhost:8080/"
        }
      },
      "execution_count": null,
      "outputs": [
        {
          "output_type": "stream",
          "name": "stdout",
          "text": [
            "\"Universidade Federal de Itajubá\" => 77df31519dcaa53077ebe6d505f5b81ed2619e8fbf2191369118c1044a6b1660\n",
            "\"Universidade Federal de Itajuba\" => 235ba040cc36ae0501fe1d42808ac50029dc35515fd1fcd7f5ba55bf41c09aca\n",
            "\"Universidade Federal de itajubá\" => eb58a68086783879f65ad9e94009a9982361ce5a05dfdce2e0b495d782698a63\n",
            "\"Universidade federal de itajubá\" => 04c4b214730b1a48a3e27d6ab8e4239f7b9524d0fceb6a1a7b5dc751dfd58f32\n",
            "\"universidade Federal de itajubá\" => a8741ae6c33a31e188ba71f7f5a6bf6c6b17a2f6f17cb0d2013578023ff93522\n"
          ]
        }
      ]
    },
    {
      "cell_type": "code",
      "source": [
        "for m in mensagens:\n",
        "  print('\"{0}\" => {1}'.format(m, hashlib.sha384(m.encode()).hexdigest()))"
      ],
      "metadata": {
        "id": "jDJKeGOK8ZeE",
        "outputId": "29d30cbf-d356-4021-8797-b7668b797dfe",
        "colab": {
          "base_uri": "https://localhost:8080/"
        }
      },
      "execution_count": null,
      "outputs": [
        {
          "output_type": "stream",
          "name": "stdout",
          "text": [
            "\"Universidade Federal de Itajubá\" => bda9d66a7bf8c4b7ab1a4c2aa5988bf0d7d26d78d54f304d5afe44d5468bb7622e76e333757b4b86320c915852b52a09\n",
            "\"Universidade Federal de Itajuba\" => 2da3c79049153adefd9106472d8b345f7f20f6e655f64420a0ba9d1c0be7a59988b9d97cd264b4df2c2e17df40eb7991\n",
            "\"Universidade Federal de itajubá\" => ac282a3d4073fbf79a3b1df123001e9c84d357c08aef26f0a2b580b7e6835c358617c043041124007af7f21ca7a53436\n",
            "\"Universidade federal de itajubá\" => d82434fa8274c924a41390235d159f853d44e3fba20aa0fe79fa09902351f79c4160f5bb5a4e739e3896cdb8d7c82d45\n",
            "\"universidade Federal de itajubá\" => ae635a7cd72a9190a0a21b05b1968b03a5d1ecf0b067a281dda7281ebfdafe369679d49f4dae90e3971ea26faba23c23\n"
          ]
        }
      ]
    },
    {
      "cell_type": "code",
      "source": [
        "for m in mensagens:\n",
        "  print('\"{0}\" => {1}'.format(m, hashlib.blake2b(m.encode()).hexdigest()))"
      ],
      "metadata": {
        "id": "WFvJKRvk8d3O",
        "outputId": "91927065-f246-40d5-b803-88fe19550bb9",
        "colab": {
          "base_uri": "https://localhost:8080/"
        }
      },
      "execution_count": null,
      "outputs": [
        {
          "output_type": "stream",
          "name": "stdout",
          "text": [
            "\"Universidade Federal de Itajubá\" => 046ee696ac49e900e59e768b9eaf4be1fc6ee5edcdbb122f29b750d5b68d543e0068ca15caf3dbdab8b404a2805f5194eb3b1ec8fa2832731159a05ed6dccdc2\n",
            "\"Universidade Federal de Itajuba\" => 42b53f8fe3d2298c6cf7f0c8e1d99a12b80fecfc64ff41249b2c4650e5730b3f7bb57e9bedbfbe9ef2131beb8ad010ef35924c123d737018bb3837aa30a2ed8d\n",
            "\"Universidade Federal de itajubá\" => 9162199a38386502ff099ac51a25384a5c5b00e09d2ab813ebc9531a267ef89f2bfc12dcb980329f2c8399058262b6f1bdb9a707c9c70d6e83f76f7e93d04d09\n",
            "\"Universidade federal de itajubá\" => 200104e4a2e365d1db9470fedd9b2a23f1ea01e1b4f39913e116743e8dc88333e1e86aaeb98234fa7bda4cacdba884dd20696713573a1f521d0b47bd081b3ac3\n",
            "\"universidade Federal de itajubá\" => 1b2ffef166af77a4b9dbc1dacd53569c76414579eb2eaae5d0675ac3b30ce21f9bb5c3a1222a704310bad6bf9976d969d150d3cd8d8c4b3225ff78fb0f8d0cef\n"
          ]
        }
      ]
    },
    {
      "cell_type": "code",
      "source": [
        "for m in mensagens:\n",
        "  print('\"{0}\" => {1}'.format(m, hashlib.blake2s(m.encode()).hexdigest()))"
      ],
      "metadata": {
        "id": "hOdTh9rR84zr",
        "outputId": "06cc3585-db74-499f-8d1d-9bfa4066c6b1",
        "colab": {
          "base_uri": "https://localhost:8080/"
        }
      },
      "execution_count": null,
      "outputs": [
        {
          "output_type": "stream",
          "name": "stdout",
          "text": [
            "\"Universidade Federal de Itajubá\" => 940cb8076f73bffdb4861e5e70eacb9f2166490d523a8d4084814ec27e8195f4\n",
            "\"Universidade Federal de Itajuba\" => 08c0b99fc0e08e1cc90d57e1c15b6d4f2c1ad96d0c92330316802b49c6fdd2de\n",
            "\"Universidade Federal de itajubá\" => d92d88e52efa0089839425de086e4c364265f7f60cc9f4cabb119596696d7bad\n",
            "\"Universidade federal de itajubá\" => f4a18284918dc35b8dcece4d7e859ebd9c28fc471c07dfa2eb6483e37fbd60ea\n",
            "\"universidade Federal de itajubá\" => b89b32d9cd7b96d4a3fc2a7d13e4f434ebf52425a3e9b96e8a521e78116ddc46\n"
          ]
        }
      ]
    }
  ]
}